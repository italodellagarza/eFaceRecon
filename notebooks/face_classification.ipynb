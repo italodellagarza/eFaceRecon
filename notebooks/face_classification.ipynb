{
 "cells": [
  {
   "cell_type": "markdown",
   "metadata": {},
   "source": [
    "# Classificação de Faces"
   ]
  },
  {
   "cell_type": "markdown",
   "metadata": {},
   "source": [
    "A rede neural artificial aqui utilizada é uma variante da arquitetura inception. Uma variante NN4 do projeto OpenFace. A implementação usa uma implementação Keras do modelo pego do projeto Keras-OpenFace. "
   ]
  },
  {
   "cell_type": "code",
   "execution_count": 3,
   "metadata": {},
   "outputs": [
    {
     "name": "stdout",
     "output_type": "stream",
     "text": [
      "WARNING:tensorflow:From /home/italo/.virtualenvs/env_efacerecon/lib/python3.7/site-packages/tensorflow/python/framework/op_def_library.py:263: colocate_with (from tensorflow.python.framework.ops) is deprecated and will be removed in a future version.\n",
      "Instructions for updating:\n",
      "Colocations handled automatically by placer.\n"
     ]
    }
   ],
   "source": [
    "from model import create_model\n",
    "\n",
    "nn4_small2 = create_model()"
   ]
  },
  {
   "cell_type": "markdown",
   "metadata": {},
   "source": [
    "O treinamento do modelo visa aprender um $f(x)$ incorporado a uma imagem $x$, cuja distância quadrada L2 entre todas as faces da mesma identidade é pequena e a distância entre os pares de faces de diferentes identidades é grande. Isso pode ser atingido através do _triplet loss_ L que é minimizado quando a distância entre uma imagem âncora $x_i^a$ e uma imagem positiva $x_i^p$(de mesma identidade) no espaço é menor que a distância entre aquela imagem âncora e uma imagem negativa $x_i^n$ em pelo menos uma margem $\\alpha$."
   ]
  },
  {
   "cell_type": "markdown",
   "metadata": {},
   "source": [
    "$\\begin{aligned}\n",
    "L = \\sum_{i = 1}^{m}{[\\lVert f(x_i^a) - f(x_i^p) \\rVert_2^2 - \\lVert f(x_i^a) - f(x_i^n) \\rVert_2^2 + \\alpha]}_+\n",
    "\\end{aligned}$"
   ]
  },
  {
   "cell_type": "code",
   "execution_count": 4,
   "metadata": {},
   "outputs": [],
   "source": [
    "from keras import backend as K\n",
    "from keras.models import Model\n",
    "from keras.layers import Input, Layer\n",
    "\n",
    "# Entrada para imagens âncora, postiva e negativa\n",
    "in_a = Input(shape=(96, 96, 3))\n",
    "in_p = Input(shape=(96, 96, 3))\n",
    "in_n = Input(shape=(96, 96, 3))\n",
    "\n",
    "# Sáida para vetores embutidos âncora, positivo e negativo\n",
    "# o modelo de instâncias nn4_small é compartilhado (Redes Siamesas)\n",
    "emb_a = nn4_small2(in_a)\n",
    "emb_p = nn4_small2(in_p)\n",
    "emb_n = nn4_small2(in_n)\n",
    "\n",
    "class TripletLossLayer(Layer):\n",
    "    def __init__(self, alpha, **kwargs):\n",
    "        self.alpha = alpha\n",
    "        super(TripletLossLayer, self).__init__(**kwargs)\n",
    "    \n",
    "    def triplet_loss(self, inputs):\n",
    "        a, p, n = inputs\n",
    "        p_dist = K.sum(K.square(a-p), axis=-1)\n",
    "        n_dist = K.sum(K.square(a-n), axis=-1)\n",
    "        return K.sum(K.maximum(p_dist - n_dist + self.alpha, 0), axis=0)\n",
    "    \n",
    "    def call(self, inputs):\n",
    "        loss = self.triplet_loss(inputs)\n",
    "        self.add_loss(loss)\n",
    "        return loss\n",
    "\n",
    "# Camada que computa o triplet loss para os vetores embutidos âncora, positivo e negativo\n",
    "triplet_loss_layer = TripletLossLayer(alpha=0.2, name='triplet_loss_layer')([emb_a, emb_p, emb_n])\n",
    "\n",
    "# Modelo que pode ser treinado com imagens âncora, positiva e negativa\n",
    "nn4_small2_train = Model([in_a, in_p, in_n], triplet_loss_layer)\n"
   ]
  },
  {
   "cell_type": "code",
   "execution_count": null,
   "metadata": {},
   "outputs": [],
   "source": []
  }
 ],
 "metadata": {
  "kernelspec": {
   "display_name": "Python 3",
   "language": "python",
   "name": "python3"
  }
 },
 "nbformat": 4,
 "nbformat_minor": 2
}
