{
 "cells": [
  {
   "cell_type": "markdown",
   "metadata": {},
   "source": [
    "# Teste com a parte dos vídeos dos alunos da ufla da base de dados TODO"
   ]
  },
  {
   "cell_type": "markdown",
   "metadata": {},
   "source": [
    "## Criação dos modelos"
   ]
  },
  {
   "cell_type": "code",
   "execution_count": 1,
   "metadata": {
    "tags": []
   },
   "outputs": [
    {
     "name": "stderr",
     "output_type": "stream",
     "text": [
      "Using TensorFlow backend.\n",
      "/home/italo/eFaceRecon/env/lib/python3.7/site-packages/tensorflow/python/framework/dtypes.py:526: FutureWarning: Passing (type, 1) or '1type' as a synonym of type is deprecated; in a future version of numpy, it will be understood as (type, (1,)) / '(1,)type'.\n",
      "  _np_qint8 = np.dtype([(\"qint8\", np.int8, 1)])\n",
      "/home/italo/eFaceRecon/env/lib/python3.7/site-packages/tensorflow/python/framework/dtypes.py:527: FutureWarning: Passing (type, 1) or '1type' as a synonym of type is deprecated; in a future version of numpy, it will be understood as (type, (1,)) / '(1,)type'.\n",
      "  _np_quint8 = np.dtype([(\"quint8\", np.uint8, 1)])\n",
      "/home/italo/eFaceRecon/env/lib/python3.7/site-packages/tensorflow/python/framework/dtypes.py:528: FutureWarning: Passing (type, 1) or '1type' as a synonym of type is deprecated; in a future version of numpy, it will be understood as (type, (1,)) / '(1,)type'.\n",
      "  _np_qint16 = np.dtype([(\"qint16\", np.int16, 1)])\n",
      "/home/italo/eFaceRecon/env/lib/python3.7/site-packages/tensorflow/python/framework/dtypes.py:529: FutureWarning: Passing (type, 1) or '1type' as a synonym of type is deprecated; in a future version of numpy, it will be understood as (type, (1,)) / '(1,)type'.\n",
      "  _np_quint16 = np.dtype([(\"quint16\", np.uint16, 1)])\n",
      "/home/italo/eFaceRecon/env/lib/python3.7/site-packages/tensorflow/python/framework/dtypes.py:530: FutureWarning: Passing (type, 1) or '1type' as a synonym of type is deprecated; in a future version of numpy, it will be understood as (type, (1,)) / '(1,)type'.\n",
      "  _np_qint32 = np.dtype([(\"qint32\", np.int32, 1)])\n",
      "/home/italo/eFaceRecon/env/lib/python3.7/site-packages/tensorflow/python/framework/dtypes.py:535: FutureWarning: Passing (type, 1) or '1type' as a synonym of type is deprecated; in a future version of numpy, it will be understood as (type, (1,)) / '(1,)type'.\n",
      "  np_resource = np.dtype([(\"resource\", np.ubyte, 1)])\n"
     ]
    }
   ],
   "source": [
    "from nn4_small2_v1 import create_model as create_nn4\n",
    "from vgg_face import create_model as create_vgg\n",
    "from facenet import InceptionResNetV1 as create_facenet"
   ]
  },
  {
   "cell_type": "code",
   "execution_count": 2,
   "metadata": {
    "tags": []
   },
   "outputs": [
    {
     "name": "stdout",
     "output_type": "stream",
     "text": [
      "WARNING:tensorflow:From /home/italo/eFaceRecon/env/lib/python3.7/site-packages/tensorflow/python/framework/op_def_library.py:263: colocate_with (from tensorflow.python.framework.ops) is deprecated and will be removed in a future version.\n",
      "Instructions for updating:\n",
      "Colocations handled automatically by placer.\n",
      "WARNING:tensorflow:From /home/italo/eFaceRecon/env/lib/python3.7/site-packages/keras/backend/tensorflow_backend.py:3445: calling dropout (from tensorflow.python.ops.nn_ops) with keep_prob is deprecated and will be removed in a future version.\n",
      "Instructions for updating:\n",
      "Please use `rate` instead of `keep_prob`. Rate should be set to `rate = 1 - keep_prob`.\n"
     ]
    }
   ],
   "source": [
    "nn4_small2 = create_nn4()\n",
    "vgg_face = create_vgg()\n",
    "facenet = create_facenet()\n",
    "nn4_small2.load_weights('weights/nn4.small2.v1.h5')\n",
    "vgg_face.load_weights('weights/vgg_face_weights.h5')\n",
    "facenet.load_weights('weights/facenet.h5')"
   ]
  },
  {
   "cell_type": "markdown",
   "metadata": {},
   "source": [
    "## Carregar a base de dados"
   ]
  },
  {
   "cell_type": "code",
   "execution_count": 5,
   "metadata": {
    "tags": []
   },
   "outputs": [],
   "source": [
    "import numpy as np\n",
    "import os.path\n",
    "from person import Person\n",
    "\n",
    "\n",
    "def load_metadata(path):\n",
    "    metadata = []\n",
    "    for i in os.listdir(path):\n",
    "        if os.path.exists(os.path.join(path, i) + \"/videos\"):\n",
    "            for f in os.listdir(os.path.join(path, i) + \"/videos\"):\n",
    "                metadata.append(Person(path, i, f, vp_exists=\"videos\"))\n",
    "    return np.array(metadata)\n",
    "\n",
    "videos_mt = load_metadata('dataset/ufla')"
   ]
  },
  {
   "cell_type": "markdown",
   "metadata": {},
   "source": [
    "## Detecção e Alinhamento"
   ]
  },
  {
   "cell_type": "code",
   "execution_count": 8,
   "metadata": {
    "tags": []
   },
   "outputs": [
    {
     "name": "stdout",
     "output_type": "stream",
     "text": [
      "Quantidade de frames restantes para cada vídeo =  [16, 30, 27, 26, 6, 22, 29, 11, 14, 43, 40, 39]\n"
     ]
    }
   ],
   "source": [
    "import cv2\n",
    "import dlib\n",
    "from image_align import align_image\n",
    "\n",
    "face_detector = cv2.CascadeClassifier(cv2.data.haarcascades + \"haarcascade_frontalface_default.xml\")\n",
    "\n",
    "\n",
    "def load_video(path):\n",
    "    obj = cv2.VideoCapture(path)\n",
    "    success = 1\n",
    "    image_list = []\n",
    "    counter = 0\n",
    "    while success:\n",
    "        counter += 1\n",
    "        # O OpenCV carrega as imagens com os canais de cores\n",
    "        # na ordem BGR. Então precisamos invertê-las\n",
    "        success, img = obj.read()\n",
    "        if success and (counter % 15 == 0):\n",
    "            image_list.append(img[...,::-1])\n",
    "    return image_list\n",
    "\n",
    "videos_96 = []\n",
    "videos_160 = []\n",
    "videos_224 = []\n",
    "qts_frames = []\n",
    "for i,v in enumerate(videos_mt):\n",
    "    image_list = load_video(v.image_path())\n",
    "    imgs_96 = []\n",
    "    imgs_160 = []\n",
    "    imgs_224 = []\n",
    "    counter = 0\n",
    "    qt_aligned = 0\n",
    "    for img in image_list:\n",
    "        counter += 1\n",
    "        gray =  cv2.cvtColor(img, cv2.COLOR_RGB2GRAY)\n",
    "        bounding_boxes = face_detector.detectMultiScale(gray, 1.3, 1)\n",
    "        aligned = None\n",
    "        for (x, y, w, h) in bounding_boxes:\n",
    "            aligned = align_image(img, dlib.rectangle(x,y,x+w,y+h), 224)\n",
    "        if not (aligned is None):\n",
    "            imgs_96.append(cv2.resize(aligned, (96, 96)))\n",
    "            imgs_160.append(cv2.resize(aligned, (160, 160)))\n",
    "            imgs_224.append(aligned)\n",
    "            # escala os valores RGB para o intervalo [0,1]\n",
    "            imgs_96[qt_aligned] = (imgs_96[qt_aligned] / 255. ).astype(np.float32)\n",
    "            imgs_160[qt_aligned] = ((imgs_160[qt_aligned] / 127.5) - 1.).astype(np.float32)\n",
    "            imgs_224[qt_aligned] = ((imgs_224[qt_aligned] / 127.5) - 1.).astype(np.float32)\n",
    "            qt_aligned += 1\n",
    "    qts_frames.append(len(imgs_96))\n",
    "    videos_96.append(imgs_96)\n",
    "    videos_160.append(imgs_160)\n",
    "    videos_224.append(imgs_224)\n",
    "print(\"Quantidade de frames restantes para cada vídeo = \", qts_frames)\n",
    "    \n",
    "    "
   ]
  },
  {
   "cell_type": "markdown",
   "metadata": {},
   "source": [
    "## Extração de Atributos"
   ]
  },
  {
   "cell_type": "code",
   "execution_count": 9,
   "metadata": {},
   "outputs": [],
   "source": [
    "# TODO deu certo! Agora é extrair as features\n",
    "\n",
    "def l2_normalize(x):\n",
    "    return x / np.sqrt(np.sum(np.multiply(x, x)))\n",
    "\n",
    "v_embedded_nn4 = []\n",
    "v_embedded_facenet = []\n",
    "v_embedded_vgg = []\n",
    "\n",
    "for qt_frame in qts_frames:\n",
    "    embedded_nn4 = np.zeros((qt_frame, 128))\n",
    "    v_embedded_nn4.append(embedded_nn4)\n",
    "    embedded_facenet = np.zeros((qt_frame, 128))\n",
    "    v_embedded_facenet.append(embedded_facenet)\n",
    "    embedded_vgg = np.zeros((qt_frame, 2622))\n",
    "    v_embedded_vgg.append(embedded_vgg)\n",
    "\n",
    "\n",
    "for i, v in enumerate(videos_mt):\n",
    "    for j in range(len(v_embedded_nn4[i])):\n",
    "        v_embedded_nn4[i][j] = nn4_small2.predict(np.expand_dims(videos_96[i][j], axis=0))[0]\n",
    "        v_embedded_facenet[i][j] = l2_normalize(facenet.predict(np.expand_dims(videos_160[i][j], axis=0))[0,:])\n",
    "        v_embedded_vgg[i][j] = vgg_face.predict(np.expand_dims(videos_224[i][j], axis=0))[0,:]\n",
    "    # grava no vetor persons o seu embeddign vecor\n",
    "    v.embedded_nn4 = v_embedded_nn4[i]\n",
    "    v.embedded_facenet = v_embedded_facenet[i]\n",
    "    v.embedded_vgg = v_embedded_vgg[i]\n"
   ]
  },
  {
   "cell_type": "markdown",
   "metadata": {},
   "source": [
    "## Diferentes distâncias"
   ]
  },
  {
   "cell_type": "code",
   "execution_count": 10,
   "metadata": {},
   "outputs": [],
   "source": [
    "def dist_cos(source_representation, test_representation):\n",
    "    a = np.matmul(np.transpose(source_representation), test_representation)\n",
    "    b = np.sum(np.multiply(source_representation, source_representation))\n",
    "    c = np.sum(np.multiply(test_representation, test_representation))\n",
    "    return 1 - (a / (np.sqrt(b) * np.sqrt(c)))\n",
    " \n",
    "def dist_eucl(source_representation, test_representation):\n",
    "    euclidean_distance = source_representation - test_representation\n",
    "    euclidean_distance = np.sum(np.multiply(euclidean_distance, euclidean_distance))\n",
    "    euclidean_distance = np.sqrt(euclidean_distance)\n",
    "    return euclidean_distance"
   ]
  },
  {
   "cell_type": "markdown",
   "metadata": {},
   "source": [
    "## Classificação"
   ]
  },
  {
   "cell_type": "code",
   "execution_count": 11,
   "metadata": {},
   "outputs": [],
   "source": [
    "# TODO agrupar corretamente os frames por vídeo\n",
    "\n",
    "from sklearn.preprocessing import LabelEncoder\n",
    "from sklearn.neighbors import KNeighborsClassifier\n",
    "from sklearn.svm import LinearSVC\n",
    "from sklearn.metrics import classification_report, precision_score, recall_score, f1_score, accuracy_score\n",
    "from sklearn.tree import DecisionTreeClassifier\n",
    "from sklearn.ensemble import RandomForestClassifier, AdaBoostClassifier\n",
    "from sklearn.naive_bayes import GaussianNB\n",
    "import math\n",
    "import matplotlib.pyplot as plt\n",
    "from scipy.stats import mode\n",
    "from collections import defaultdict\n",
    "\n",
    "def format_float(n, decimals=2):\n",
    "    multiplier = 10 ** decimals\n",
    "    new_f = math.floor(n*multiplier + 0.5) / multiplier\n",
    "    return \"{:.2f}\".format(new_f).replace('.',',')\n",
    "\n",
    "\n",
    "# string para gravar os resultados de classificação em csv\n",
    "class_result = \"RNC;Classificador;Precisão (%);Revocação (%);Medida-F (%);Percentual de acertos\\n\"\n",
    "\n",
    "\n",
    "# Para plotar o gráfico\n",
    "# data_for_graph[0] = precisão\n",
    "# data_for_graph[1] = revocação\n",
    "# data_for_graph[2] = medida-F\n",
    "# data_for_graph[3] = percentual de acertos\n",
    "\n",
    "targets = np.array([v.name for v in videos_mt])\n",
    "data_for_graph = None\n",
    "encoder = LabelEncoder()\n",
    "encoder.fit(targets)\n",
    "\n",
    "# Transformar as classes em números\n",
    "y = encoder.transform(targets)\n",
    "\n",
    "# Criar os índices para teste\n",
    "qt_by_name = defaultdict(list)\n",
    "for tgt in list(set(targets)):\n",
    "    qt_by_name[tgt] = 0\n",
    "\n",
    "\n",
    "# Função para agrupar os resultados para cada vídeo\n",
    "def group_res(indexes, y_calc):\n",
    "    resultado = defaultdict(list)\n",
    "    for i in range(len(indexes)):\n",
    "        if resultado[indexes[i]] is None:\n",
    "            resultado[indexes[i]] = []\n",
    "        resultado[indexes[i]].append(y_calc[i])\n",
    "    output = []\n",
    "    for key in resultado:\n",
    "        resultado[key] = mode(resultado[key]).mode[0]\n",
    "        output.append(resultado[key])\n",
    "    return np.array(output)\n",
    "        \n",
    "\n",
    "\n",
    "\n",
    "train_indexes = np.full(len(v_embedded_nn4), False)\n",
    "\n",
    "for i in range(len(train_indexes)):\n",
    "    if(qt_by_name[videos_mt[i].name] != 2):\n",
    "        train_indexes[i] = True\n",
    "        qt_by_name[videos_mt[i].name] += 1\n",
    "        \n",
    "        \n",
    "def write_results(y_true, y_pred, method, neural_net):\n",
    "    global class_result\n",
    "    global data_for_graph\n",
    "    \n",
    "    precisao = precision_score(y_true, y_pred, average='macro') * 100.0\n",
    "    data_for_graph[0].append(precisao)\n",
    "    revocacao = recall_score(y_true, y_pred, average='macro') * 100.0\n",
    "    data_for_graph[1].append(revocacao)\n",
    "    medida_f = f1_score(y_true, y_pred, average='macro') * 100.0\n",
    "    data_for_graph[2].append(medida_f)\n",
    "    percentual_acertos = accuracy_score(y_true, y_pred) * 100.0\n",
    "    data_for_graph[3].append(medida_f)\n",
    "    class_result += neural_net + \";\" + method + \";\" + format_float(precisao) + \";\" + format_float(revocacao) + \\\n",
    "            \";\" + format_float(medida_f) + \";\" + format_float(percentual_acertos) + \"\\n\"\n",
    "\n",
    "\n",
    "def classify_and_report(neural_net):\n",
    "    global data_for_graph\n",
    "    global X_train\n",
    "    global video_groupper_test\n",
    "    data_for_graph = [[],[],[],[]]\n",
    "    \n",
    "    # Construindo os classificadores.\n",
    "    knn = KNeighborsClassifier(n_neighbors=1, metric='euclidean')\n",
    "    svm = LinearSVC()\n",
    "    decision_tree = DecisionTreeClassifier(random_state=0, min_samples_split=5)\n",
    "    random_forest = RandomForestClassifier(random_state=0, min_samples_split=5, n_estimators=60)\n",
    "    adaboost = AdaBoostClassifier(random_state=0, n_estimators=20, base_estimator=DecisionTreeClassifier(max_depth=5))\n",
    "    naive_bayes = GaussianNB()\n",
    "    \n",
    "    \n",
    "    knn.fit(X_train, y_train)\n",
    "    decision_tree.fit(X_train, y_train)\n",
    "    random_forest.fit(X_train, y_train)\n",
    "    adaboost.fit(X_train, y_train)\n",
    "    naive_bayes.fit(X_train, y_train)\n",
    "    svm.fit(X_train, y_train)\n",
    "\n",
    "    y_knn = group_res(video_groupper_test,knn.predict(X_test))\n",
    "    y_svm = group_res(video_groupper_test,svm.predict(X_test))\n",
    "    y_decision_tree = group_res(video_groupper_test,decision_tree.predict(X_test))\n",
    "    y_random_forest = group_res(video_groupper_test,random_forest.predict(X_test))\n",
    "    y_adaboost = group_res(video_groupper_test,adaboost.predict(X_test))\n",
    "    y_naive_bayes = group_res(video_groupper_test,naive_bayes.predict(X_test))\n",
    "\n",
    "    # Gerar o relatório de classificação\n",
    "    class_knn = classification_report(y_test, y_knn, target_names=encoder.classes_)\n",
    "    write_results(y_test, y_knn, 'KNN', neural_net)\n",
    "    \n",
    "    class_svm = classification_report(y_test, y_svm, target_names=encoder.classes_)\n",
    "    write_results(y_test, y_svm, 'SVM', neural_net)\n",
    "    \n",
    "    class_decision_tree = classification_report(y_test, y_decision_tree, target_names=encoder.classes_)\n",
    "    write_results(y_test, y_decision_tree, 'Árvore de Decisão', neural_net)\n",
    "    \n",
    "    class_random_forest = classification_report(y_test, y_random_forest, target_names=encoder.classes_)\n",
    "    write_results(y_test, y_random_forest, 'Random Forest', neural_net)\n",
    "    \n",
    "    class_adaboost = classification_report(y_test, y_adaboost, target_names=encoder.classes_)\n",
    "    write_results(y_test, y_adaboost, 'Adaboost', neural_net)\n",
    "    \n",
    "    class_naive_bayes = classification_report(y_test, y_naive_bayes, target_names=encoder.classes_)\n",
    "    write_results(y_test, y_naive_bayes, 'Naive Bayes', neural_net)\n",
    "\n",
    "    print(\"KNN\\n\\n\" + class_knn)\n",
    "    print(\"SVM\\n\\n\" + class_svm)\n",
    "    print(\"Decision Tree\\n\\n\" + class_decision_tree)\n",
    "    print(\"Random Forest\\n\\n\" + class_random_forest)\n",
    "    print(\"Adaboost\\n\\n\" + class_adaboost)\n",
    "    print(\"Naive Bayes\\n\\n\" + class_naive_bayes)\n",
    "    \n",
    "    position_graphic = np.arange(6)\n",
    "    fig = plt.figure()\n",
    "    ax = fig.add_axes([0,0,2,1])\n",
    "    rects1 = ax.bar(position_graphic - 0.40, data_for_graph[0], color = '#241623', width = 0.20)\n",
    "    rects2 = ax.bar(position_graphic - 0.20, data_for_graph[1], color = '#D0CD94', width = 0.20)\n",
    "    rects3 = ax.bar(position_graphic, data_for_graph[2], color = '#3C787E', width = 0.20)\n",
    "    rects4 = ax.bar(position_graphic + 0.20, data_for_graph[3], color = '#C7EF00', width = 0.20)\n",
    "    ax.legend(labels=['Precisão', 'Revocação', 'Medida-F', 'Percentual de acertos'])\n",
    "    ax.set_xticklabels(['', 'KNN', 'SVM', 'Árvore de Decisão', 'Random Forest', 'Adaboost', 'Naive Bayes'])\n",
    "    ax.set_ylabel('Valor (%)')\n",
    "    ax.set_xlabel('Método de classificação')\n",
    "    \n",
    "    plt.savefig('results/ufla V2V '+ neural_net +'classificacao.pdf', format='pdf', bbox_inches='tight')\n",
    "    plt.show()\n",
    "    "
   ]
  },
  {
   "cell_type": "markdown",
   "metadata": {},
   "source": [
    "### Classificações NN4 Small 1"
   ]
  },
  {
   "cell_type": "code",
   "execution_count": 12,
   "metadata": {
    "tags": []
   },
   "outputs": [
    {
     "name": "stderr",
     "output_type": "stream",
     "text": [
      "/home/italo/eFaceRecon/env/lib/python3.7/site-packages/sklearn/metrics/classification.py:1143: UndefinedMetricWarning: Precision and F-score are ill-defined and being set to 0.0 in labels with no predicted samples.\n",
      "  'precision', 'predicted', average, warn_for)\n",
      "/home/italo/eFaceRecon/env/lib/python3.7/site-packages/sklearn/metrics/classification.py:1143: UndefinedMetricWarning: Precision is ill-defined and being set to 0.0 in labels with no predicted samples.\n",
      "  'precision', 'predicted', average, warn_for)\n",
      "/home/italo/eFaceRecon/env/lib/python3.7/site-packages/sklearn/metrics/classification.py:1143: UndefinedMetricWarning: F-score is ill-defined and being set to 0.0 in labels with no predicted samples.\n",
      "  'precision', 'predicted', average, warn_for)\n"
     ]
    },
    {
     "name": "stdout",
     "output_type": "stream",
     "text": [
      "KNN\n",
      "\n",
      "              precision    recall  f1-score   support\n",
      "\n",
      "     Pessoa1       0.50      1.00      0.67         1\n",
      "     Pessoa2       1.00      1.00      1.00         1\n",
      "     Pessoa3       1.00      1.00      1.00         1\n",
      "     Pessoa5       0.00      0.00      0.00         1\n",
      "\n",
      "   micro avg       0.75      0.75      0.75         4\n",
      "   macro avg       0.62      0.75      0.67         4\n",
      "weighted avg       0.62      0.75      0.67         4\n",
      "\n",
      "SVM\n",
      "\n",
      "              precision    recall  f1-score   support\n",
      "\n",
      "     Pessoa1       1.00      1.00      1.00         1\n",
      "     Pessoa2       1.00      1.00      1.00         1\n",
      "     Pessoa3       1.00      1.00      1.00         1\n",
      "     Pessoa5       1.00      1.00      1.00         1\n",
      "\n",
      "   micro avg       1.00      1.00      1.00         4\n",
      "   macro avg       1.00      1.00      1.00         4\n",
      "weighted avg       1.00      1.00      1.00         4\n",
      "\n",
      "Decision Tree\n",
      "\n",
      "              precision    recall  f1-score   support\n",
      "\n",
      "     Pessoa1       0.50      1.00      0.67         1\n",
      "     Pessoa2       1.00      1.00      1.00         1\n",
      "     Pessoa3       1.00      1.00      1.00         1\n",
      "     Pessoa5       0.00      0.00      0.00         1\n",
      "\n",
      "   micro avg       0.75      0.75      0.75         4\n",
      "   macro avg       0.62      0.75      0.67         4\n",
      "weighted avg       0.62      0.75      0.67         4\n",
      "\n",
      "Random Forest\n",
      "\n",
      "              precision    recall  f1-score   support\n",
      "\n",
      "     Pessoa1       0.00      0.00      0.00         1\n",
      "     Pessoa2       1.00      1.00      1.00         1\n",
      "     Pessoa3       1.00      1.00      1.00         1\n",
      "     Pessoa5       0.50      1.00      0.67         1\n",
      "\n",
      "   micro avg       0.75      0.75      0.75         4\n",
      "   macro avg       0.62      0.75      0.67         4\n",
      "weighted avg       0.62      0.75      0.67         4\n",
      "\n",
      "Adaboost\n",
      "\n",
      "              precision    recall  f1-score   support\n",
      "\n",
      "     Pessoa1       0.50      1.00      0.67         1\n",
      "     Pessoa2       1.00      1.00      1.00         1\n",
      "     Pessoa3       1.00      1.00      1.00         1\n",
      "     Pessoa5       0.00      0.00      0.00         1\n",
      "\n",
      "   micro avg       0.75      0.75      0.75         4\n",
      "   macro avg       0.62      0.75      0.67         4\n",
      "weighted avg       0.62      0.75      0.67         4\n",
      "\n",
      "Naive Bayes\n",
      "\n",
      "              precision    recall  f1-score   support\n",
      "\n",
      "     Pessoa1       0.00      0.00      0.00         1\n",
      "     Pessoa2       1.00      1.00      1.00         1\n",
      "     Pessoa3       0.50      1.00      0.67         1\n",
      "     Pessoa5       1.00      1.00      1.00         1\n",
      "\n",
      "   micro avg       0.75      0.75      0.75         4\n",
      "   macro avg       0.62      0.75      0.67         4\n",
      "weighted avg       0.62      0.75      0.67         4\n",
      "\n"
     ]
    },
    {
     "data": {
      "image/png": "[encoded data removed]",
      "text/plain": [
       "<Figure size 432x288 with 1 Axes>"
      ]
     },
     "metadata": {
      "needs_background": "light"
     },
     "output_type": "display_data"
    }
   ],
   "source": [
    "# Separando em treino e teste\n",
    "\n",
    "video_groupper_test = []\n",
    "\n",
    "test_indexes = ~train_indexes\n",
    "X_train = []\n",
    "X_test = []\n",
    "y_train = []\n",
    "\n",
    "\n",
    "for i, t in enumerate(np.array(v_embedded_nn4)[train_indexes]):\n",
    "    X_train += t.tolist()\n",
    "    y_train += np.full(len(t),y[train_indexes][i]).tolist()\n",
    "\n",
    "for i, t in enumerate(np.array(v_embedded_nn4)[test_indexes]):\n",
    "    X_test += t.tolist()\n",
    "    video_groupper_test += np.full(len(t), i).tolist()\n",
    "\n",
    "#Reordenar aleatoriamente o conjunto treino    \n",
    "c = list(zip(X_train, y_train))\n",
    "np.random.shuffle(c)\n",
    "X_train, y_train = zip(*c)\n",
    "    \n",
    "    \n",
    "# X_train = embedded_nn4[train_indexes]\n",
    "# X_test = embedded_nn4[test_indexes]\n",
    "X_train = np.array(X_train)\n",
    "X_test = np.array(X_test)\n",
    "y_train = np.array(y_train)\n",
    "y_test = y[test_indexes]\n",
    "\n",
    "\n",
    "classify_and_report('NN4 Small 1')"
   ]
  },
  {
   "cell_type": "markdown",
   "metadata": {},
   "source": [
    "### Classificações Inception Resnet V1"
   ]
  },
  {
   "cell_type": "code",
   "execution_count": 13,
   "metadata": {
    "tags": []
   },
   "outputs": [
    {
     "name": "stderr",
     "output_type": "stream",
     "text": [
      "/home/italo/eFaceRecon/env/lib/python3.7/site-packages/sklearn/metrics/classification.py:1143: UndefinedMetricWarning: Precision and F-score are ill-defined and being set to 0.0 in labels with no predicted samples.\n",
      "  'precision', 'predicted', average, warn_for)\n",
      "/home/italo/eFaceRecon/env/lib/python3.7/site-packages/sklearn/metrics/classification.py:1143: UndefinedMetricWarning: Precision is ill-defined and being set to 0.0 in labels with no predicted samples.\n",
      "  'precision', 'predicted', average, warn_for)\n",
      "/home/italo/eFaceRecon/env/lib/python3.7/site-packages/sklearn/metrics/classification.py:1143: UndefinedMetricWarning: F-score is ill-defined and being set to 0.0 in labels with no predicted samples.\n",
      "  'precision', 'predicted', average, warn_for)\n"
     ]
    },
    {
     "name": "stdout",
     "output_type": "stream",
     "text": [
      "KNN\n",
      "\n",
      "              precision    recall  f1-score   support\n",
      "\n",
      "     Pessoa1       0.00      0.00      0.00         1\n",
      "     Pessoa2       1.00      1.00      1.00         1\n",
      "     Pessoa3       0.00      0.00      0.00         1\n",
      "     Pessoa5       0.50      1.00      0.67         1\n",
      "\n",
      "   micro avg       0.50      0.50      0.50         4\n",
      "   macro avg       0.38      0.50      0.42         4\n",
      "weighted avg       0.38      0.50      0.42         4\n",
      "\n",
      "SVM\n",
      "\n",
      "              precision    recall  f1-score   support\n",
      "\n",
      "     Pessoa1       0.00      0.00      0.00         1\n",
      "     Pessoa2       1.00      1.00      1.00         1\n",
      "     Pessoa3       1.00      1.00      1.00         1\n",
      "     Pessoa5       0.50      1.00      0.67         1\n",
      "\n",
      "   micro avg       0.75      0.75      0.75         4\n",
      "   macro avg       0.62      0.75      0.67         4\n",
      "weighted avg       0.62      0.75      0.67         4\n",
      "\n",
      "Decision Tree\n",
      "\n",
      "              precision    recall  f1-score   support\n",
      "\n",
      "     Pessoa1       0.00      0.00      0.00         1\n",
      "     Pessoa2       1.00      1.00      1.00         1\n",
      "     Pessoa3       1.00      1.00      1.00         1\n",
      "     Pessoa5       0.50      1.00      0.67         1\n",
      "\n",
      "   micro avg       0.75      0.75      0.75         4\n",
      "   macro avg       0.62      0.75      0.67         4\n",
      "weighted avg       0.62      0.75      0.67         4\n",
      "\n",
      "Random Forest\n",
      "\n",
      "              precision    recall  f1-score   support\n",
      "\n",
      "     Pessoa1       1.00      1.00      1.00         1\n",
      "     Pessoa2       1.00      1.00      1.00         1\n",
      "     Pessoa3       1.00      1.00      1.00         1\n",
      "     Pessoa5       1.00      1.00      1.00         1\n",
      "\n",
      "   micro avg       1.00      1.00      1.00         4\n",
      "   macro avg       1.00      1.00      1.00         4\n",
      "weighted avg       1.00      1.00      1.00         4\n",
      "\n",
      "Adaboost\n",
      "\n",
      "              precision    recall  f1-score   support\n",
      "\n",
      "     Pessoa1       1.00      1.00      1.00         1\n",
      "     Pessoa2       1.00      1.00      1.00         1\n",
      "     Pessoa3       1.00      1.00      1.00         1\n",
      "     Pessoa5       1.00      1.00      1.00         1\n",
      "\n",
      "   micro avg       1.00      1.00      1.00         4\n",
      "   macro avg       1.00      1.00      1.00         4\n",
      "weighted avg       1.00      1.00      1.00         4\n",
      "\n",
      "Naive Bayes\n",
      "\n",
      "              precision    recall  f1-score   support\n",
      "\n",
      "     Pessoa1       0.00      0.00      0.00         1\n",
      "     Pessoa2       1.00      1.00      1.00         1\n",
      "     Pessoa3       1.00      1.00      1.00         1\n",
      "     Pessoa5       0.50      1.00      0.67         1\n",
      "\n",
      "   micro avg       0.75      0.75      0.75         4\n",
      "   macro avg       0.62      0.75      0.67         4\n",
      "weighted avg       0.62      0.75      0.67         4\n",
      "\n"
     ]
    },
    {
     "data": {
      "image/png": "[encoded data removed]",
      "text/plain": [
       "<Figure size 432x288 with 1 Axes>"
      ]
     },
     "metadata": {
      "needs_background": "light"
     },
     "output_type": "display_data"
    }
   ],
   "source": [
    "# Separando em treino e teste\n",
    "\n",
    "video_groupper_test = []\n",
    "\n",
    "test_indexes = ~train_indexes\n",
    "X_train = []\n",
    "X_test = []\n",
    "y_train = []\n",
    "\n",
    "\n",
    "for i, t in enumerate(np.array(v_embedded_facenet)[train_indexes]):\n",
    "    X_train += t.tolist()\n",
    "    y_train += np.full(len(t),y[train_indexes][i]).tolist()\n",
    "\n",
    "for i, t in enumerate(np.array(v_embedded_facenet)[test_indexes]):\n",
    "    X_test += t.tolist()\n",
    "    video_groupper_test += np.full(len(t), i).tolist()\n",
    "\n",
    "#Reordenar aleatoriamente o conjunto treino    \n",
    "c = list(zip(X_train, y_train))\n",
    "np.random.shuffle(c)\n",
    "X_train, y_train = zip(*c)\n",
    "    \n",
    "    \n",
    "# X_train = embedded_nn4[train_indexes]\n",
    "# X_test = embedded_nn4[test_indexes]\n",
    "X_train = np.array(X_train)\n",
    "X_test = np.array(X_test)\n",
    "y_train = np.array(y_train)\n",
    "y_test = y[test_indexes]\n",
    "\n",
    "classify_and_report('Inception Resnet V1')"
   ]
  },
  {
   "cell_type": "markdown",
   "metadata": {},
   "source": [
    "### Classificações VGG Faces"
   ]
  },
  {
   "cell_type": "code",
   "execution_count": 14,
   "metadata": {
    "tags": []
   },
   "outputs": [
    {
     "name": "stdout",
     "output_type": "stream",
     "text": [
      "[0, 0, 0, 0, 0, 0, 0, 0, 0, 0, 0, 0, 0, 0, 0, 0, 0, 0, 0, 0, 0, 0, 0, 0, 0, 0, 0, 1, 1, 1, 1, 1, 1, 1, 1, 1, 1, 1, 1, 1, 1, 1, 1, 1, 1, 1, 1, 1, 1, 2, 2, 2, 2, 2, 2, 2, 2, 2, 2, 2, 2, 2, 2, 3, 3, 3, 3, 3, 3, 3, 3, 3, 3, 3, 3, 3, 3, 3, 3, 3, 3, 3, 3, 3, 3, 3, 3, 3, 3, 3, 3, 3, 3, 3, 3, 3, 3, 3, 3, 3, 3, 3]\n"
     ]
    },
    {
     "name": "stderr",
     "output_type": "stream",
     "text": [
      "/home/italo/eFaceRecon/env/lib/python3.7/site-packages/sklearn/metrics/classification.py:1143: UndefinedMetricWarning: Precision and F-score are ill-defined and being set to 0.0 in labels with no predicted samples.\n",
      "  'precision', 'predicted', average, warn_for)\n",
      "/home/italo/eFaceRecon/env/lib/python3.7/site-packages/sklearn/metrics/classification.py:1143: UndefinedMetricWarning: Precision is ill-defined and being set to 0.0 in labels with no predicted samples.\n",
      "  'precision', 'predicted', average, warn_for)\n",
      "/home/italo/eFaceRecon/env/lib/python3.7/site-packages/sklearn/metrics/classification.py:1143: UndefinedMetricWarning: F-score is ill-defined and being set to 0.0 in labels with no predicted samples.\n",
      "  'precision', 'predicted', average, warn_for)\n"
     ]
    },
    {
     "name": "stdout",
     "output_type": "stream",
     "text": [
      "KNN\n",
      "\n",
      "              precision    recall  f1-score   support\n",
      "\n",
      "     Pessoa1       1.00      1.00      1.00         1\n",
      "     Pessoa2       1.00      1.00      1.00         1\n",
      "     Pessoa3       1.00      1.00      1.00         1\n",
      "     Pessoa5       1.00      1.00      1.00         1\n",
      "\n",
      "   micro avg       1.00      1.00      1.00         4\n",
      "   macro avg       1.00      1.00      1.00         4\n",
      "weighted avg       1.00      1.00      1.00         4\n",
      "\n",
      "SVM\n",
      "\n",
      "              precision    recall  f1-score   support\n",
      "\n",
      "     Pessoa1       0.00      0.00      0.00         1\n",
      "     Pessoa2       0.25      1.00      0.40         1\n",
      "     Pessoa3       0.00      0.00      0.00         1\n",
      "     Pessoa5       0.00      0.00      0.00         1\n",
      "\n",
      "   micro avg       0.25      0.25      0.25         4\n",
      "   macro avg       0.06      0.25      0.10         4\n",
      "weighted avg       0.06      0.25      0.10         4\n",
      "\n",
      "Decision Tree\n",
      "\n",
      "              precision    recall  f1-score   support\n",
      "\n",
      "     Pessoa1       1.00      1.00      1.00         1\n",
      "     Pessoa2       1.00      1.00      1.00         1\n",
      "     Pessoa3       1.00      1.00      1.00         1\n",
      "     Pessoa5       1.00      1.00      1.00         1\n",
      "\n",
      "   micro avg       1.00      1.00      1.00         4\n",
      "   macro avg       1.00      1.00      1.00         4\n",
      "weighted avg       1.00      1.00      1.00         4\n",
      "\n",
      "Random Forest\n",
      "\n",
      "              precision    recall  f1-score   support\n",
      "\n",
      "     Pessoa1       1.00      1.00      1.00         1\n",
      "     Pessoa2       1.00      1.00      1.00         1\n",
      "     Pessoa3       1.00      1.00      1.00         1\n",
      "     Pessoa5       1.00      1.00      1.00         1\n",
      "\n",
      "   micro avg       1.00      1.00      1.00         4\n",
      "   macro avg       1.00      1.00      1.00         4\n",
      "weighted avg       1.00      1.00      1.00         4\n",
      "\n",
      "Adaboost\n",
      "\n",
      "              precision    recall  f1-score   support\n",
      "\n",
      "     Pessoa1       1.00      1.00      1.00         1\n",
      "     Pessoa2       1.00      1.00      1.00         1\n",
      "     Pessoa3       1.00      1.00      1.00         1\n",
      "     Pessoa5       1.00      1.00      1.00         1\n",
      "\n",
      "   micro avg       1.00      1.00      1.00         4\n",
      "   macro avg       1.00      1.00      1.00         4\n",
      "weighted avg       1.00      1.00      1.00         4\n",
      "\n",
      "Naive Bayes\n",
      "\n",
      "              precision    recall  f1-score   support\n",
      "\n",
      "     Pessoa1       1.00      1.00      1.00         1\n",
      "     Pessoa2       1.00      1.00      1.00         1\n",
      "     Pessoa3       1.00      1.00      1.00         1\n",
      "     Pessoa5       1.00      1.00      1.00         1\n",
      "\n",
      "   micro avg       1.00      1.00      1.00         4\n",
      "   macro avg       1.00      1.00      1.00         4\n",
      "weighted avg       1.00      1.00      1.00         4\n",
      "\n"
     ]
    },
    {
     "data": {
      "image/png": "[encoded data removed]",
      "text/plain": [
       "<Figure size 432x288 with 1 Axes>"
      ]
     },
     "metadata": {
      "needs_background": "light"
     },
     "output_type": "display_data"
    }
   ],
   "source": [
    "# Separando em treino e teste\n",
    "\n",
    "video_groupper_test = []\n",
    "\n",
    "test_indexes = ~train_indexes\n",
    "X_train = []\n",
    "X_test = []\n",
    "y_train = []\n",
    "\n",
    "\n",
    "for i, t in enumerate(np.array(v_embedded_vgg)[train_indexes]):\n",
    "    X_train += t.tolist()\n",
    "    y_train += np.full(len(t),y[train_indexes][i]).tolist()\n",
    "\n",
    "for i, t in enumerate(np.array(v_embedded_vgg)[test_indexes]):\n",
    "    X_test += t.tolist()\n",
    "    video_groupper_test += np.full(len(t), i).tolist()\n",
    "\n",
    "#Reordenar aleatoriamente o conjunto treino    \n",
    "c = list(zip(X_train, y_train))\n",
    "np.random.shuffle(c)\n",
    "X_train, y_train = zip(*c)\n",
    "    \n",
    "    \n",
    "# X_train = embedded_nn4[train_indexes]\n",
    "# X_test = embedded_nn4[test_indexes]\n",
    "X_train = np.array(X_train)\n",
    "X_test = np.array(X_test)\n",
    "y_train = np.array(y_train)\n",
    "y_test = y[test_indexes]\n",
    "\n",
    "print(video_groupper_test)\n",
    "classify_and_report('VGG Faces')"
   ]
  },
  {
   "cell_type": "markdown",
   "metadata": {},
   "source": [
    "### Gravar resultados em arquivo"
   ]
  },
  {
   "cell_type": "code",
   "execution_count": 15,
   "metadata": {},
   "outputs": [],
   "source": [
    "file_output = open(\"results/classificacao_ufla_v2v.csv\", 'w')\n",
    "file_output.write(class_result)\n",
    "file_output.close()"
   ]
  },
  {
   "cell_type": "markdown",
   "metadata": {},
   "source": [
    "## Verificação Facial TODO"
   ]
  },
  {
   "cell_type": "markdown",
   "metadata": {},
   "source": [
    "### Separar as imagens em pares"
   ]
  },
  {
   "cell_type": "code",
   "execution_count": 19,
   "metadata": {},
   "outputs": [],
   "source": [
    "np.random.seed(30)\n",
    "names = np.unique([v.name for v in videos_mt])\n",
    "pares = []\n",
    "videos_restantes = []\n",
    "for name in names:\n",
    "    videos_pessoa = [v for v in videos_mt if v.name == name]\n",
    "    if name != names[2]:\n",
    "        videos_pessoa_iguais = videos_pessoa[0:2]\n",
    "        videos_restantes.append(videos_pessoa[2])\n",
    "        np.random.shuffle(videos_pessoa_iguais)\n",
    "        pares += [[videos_pessoa_iguais[0], videos_pessoa_iguais[1]]]\n",
    "    else:\n",
    "        videos_restantes += videos_pessoa\n",
    "np.random.shuffle(videos_restantes)\n",
    "pares += [[videos_restantes[0], videos_restantes[1]]]"
   ]
  },
  {
   "cell_type": "markdown",
   "metadata": {},
   "source": [
    "### Definir uma função geral de verificação"
   ]
  },
  {
   "cell_type": "code",
   "execution_count": 20,
   "metadata": {},
   "outputs": [],
   "source": [
    "import matplotlib.pyplot as plt\n",
    "data_for_graph = None\n",
    "\n",
    "# Para plotar o gráfico\n",
    "# data_for_graph[0] = precisão\n",
    "# data_for_graph[1] = revocação\n",
    "# data_for_graph[2] = medida-F\n",
    "# data_for_graph[3] = percentual de erros\n",
    "\n",
    "\n",
    "# string para gravar os resultados de classificação em csv\n",
    "class_result = \"RNC;Cálculo da distância;Limítrofe;Precisão (%);Revocação (%);Medida-F (%);Percentual de acertos\\n\"\n",
    "\n",
    "# redefinição da função de escrever resultados\n",
    "def write_results(y_true, y_pred, distance_calc, threshold, neural_net):\n",
    "    global class_result\n",
    "    global data_for_graph\n",
    "    precisao = precision_score(y_true, y_pred, average='macro') * 100.0\n",
    "    data_for_graph[0].append(precisao)\n",
    "    revocacao = recall_score(y_true, y_pred, average='macro') * 100.0\n",
    "    data_for_graph[1].append(revocacao)\n",
    "    medida_f = f1_score(y_true, y_pred, average='macro') * 100.0\n",
    "    data_for_graph[2].append(medida_f)\n",
    "    percentual_acertos = accuracy_score(y_true, y_pred) * 100.0\n",
    "    data_for_graph[3].append(percentual_acertos)\n",
    "    class_result += neural_net + \";\" + distance_calc + \";\" + threshold + \";\" + format_float(precisao) + \";\" + \\\n",
    "                    format_float(revocacao) + \";\" + format_float(medida_f) + \";\" + \\\n",
    "                    format_float(percentual_acertos) + \"\\n\" \n",
    "\n",
    "\n",
    "def verification_test(network, dist_function, threshold):\n",
    "    y_pred = []\n",
    "    y_true = []\n",
    "    d_name = 'Euclideana'\n",
    "    if dist_function == dist_cos:\n",
    "        d_name = \"Cosseno\"\n",
    "    network_name = 'NN4 Small 1'\n",
    "    if network == 'facenet':\n",
    "        network_name = 'Inception Resnet V1'\n",
    "    elif network == 'vgg':\n",
    "        network_name = 'VGG Faces'\n",
    "    for p in pares:\n",
    "        p1_frames = p[0].load_embedded(network)\n",
    "        p2_frames = p[1].load_embedded(network)\n",
    "        if p[0].name == p[1].name:\n",
    "            y_true.append(1)\n",
    "        else:\n",
    "            y_true.append(0)\n",
    "        y_pred_subtotal = []\n",
    "        for p1, p2 in zip(p1_frames, p2_frames):\n",
    "            if(dist_function(p1,p2) > threshold):\n",
    "                y_pred_subtotal.append(0)\n",
    "            else:\n",
    "                y_pred_subtotal.append(1)\n",
    "        y_pred.append(mode(y_pred_subtotal).mode[0])\n",
    "    \n",
    "    write_results(y_true, y_pred, d_name, str(threshold), network_name)"
   ]
  },
  {
   "cell_type": "markdown",
   "metadata": {},
   "source": [
    "### Testes para NN4 Small 1"
   ]
  },
  {
   "cell_type": "code",
   "execution_count": 21,
   "metadata": {
    "tags": []
   },
   "outputs": [
    {
     "data": {
      "image/png": "[encoded data removed]",
      "text/plain": [
       "<Figure size 432x288 with 1 Axes>"
      ]
     },
     "metadata": {
      "needs_background": "light"
     },
     "output_type": "display_data"
    }
   ],
   "source": [
    "position_graphic = np.arange(6)\n",
    "fig = plt.figure()\n",
    "ax = fig.add_axes([0,0,2,1])\n",
    "\n",
    "data_for_graph = [[],[],[],[]]\n",
    "verification_test('nn4', dist_eucl, 0.83)\n",
    "verification_test('nn4', dist_eucl, 0.87)\n",
    "verification_test('nn4', dist_eucl, 0.89)\n",
    "verification_test('nn4', dist_cos, 0.305)\n",
    "verification_test('nn4', dist_cos, 0.355)\n",
    "verification_test('nn4', dist_cos, 0.405)\n",
    "\n",
    "rects1 = ax.bar(position_graphic - 0.40, data_for_graph[0], color = '#241623', width = 0.20)\n",
    "rects2 = ax.bar(position_graphic - 0.20, data_for_graph[1], color = '#D0CD94', width = 0.20)\n",
    "rects3 = ax.bar(position_graphic, data_for_graph[2], color = '#3C787E', width = 0.20)\n",
    "rects4 = ax.bar(position_graphic + 0.20, data_for_graph[3], color = '#C7EF00', width = 0.20)\n",
    "ax.legend(labels=['Precisão', 'Revocação', 'Medida-F', 'Percentual de acertos'])\n",
    "ax.set_xticklabels(['', \"Distância Euclidiana\\n + 0,83\", \"Distância Euclidiana\\n + 0,87\", \"Distância Euclidiana\\n + 0,89\", \"Similaridade de Cossenos\\n + 0,305\", \"Similaridade de Cossenos\\n + 0,355\", \"Similaridade de Cossenos\\n + 0,405\"])\n",
    "ax.set_ylabel('Valor (%)')\n",
    "ax.set_xlabel('Cálculo da Distância + Valor limítrofe')\n",
    "plt.savefig('results/ufla V2V nn4 verificacao.pdf', format='pdf', bbox_inches='tight')"
   ]
  },
  {
   "cell_type": "markdown",
   "metadata": {},
   "source": [
    "### Testes para Inception Resnet V1"
   ]
  },
  {
   "cell_type": "code",
   "execution_count": 22,
   "metadata": {},
   "outputs": [
    {
     "data": {
      "image/png": "[encoded data removed]",
      "text/plain": [
       "<Figure size 432x288 with 1 Axes>"
      ]
     },
     "metadata": {
      "needs_background": "light"
     },
     "output_type": "display_data"
    }
   ],
   "source": [
    "position_graphic = np.arange(6)\n",
    "fig = plt.figure()\n",
    "ax = fig.add_axes([0,0,2,1])\n",
    "data_for_graph = [[],[],[],[]]\n",
    "\n",
    "verification_test('facenet', dist_eucl, 1.0)\n",
    "verification_test('facenet', dist_eucl, 1.05)\n",
    "verification_test('facenet', dist_eucl, 1.1)\n",
    "verification_test('facenet', dist_cos, 0.4)\n",
    "verification_test('facenet', dist_cos, 0.5)\n",
    "verification_test('facenet', dist_cos, 0.6)\n",
    "\n",
    "rects1 = ax.bar(position_graphic - 0.40, data_for_graph[0], color = '#241623', width = 0.20)\n",
    "rects2 = ax.bar(position_graphic - 0.20, data_for_graph[1], color = '#D0CD94', width = 0.20)\n",
    "rects3 = ax.bar(position_graphic, data_for_graph[2], color = '#3C787E', width = 0.20)\n",
    "rects4 = ax.bar(position_graphic + 0.20, data_for_graph[3], color = '#C7EF00', width = 0.20)\n",
    "ax.legend(labels=['Precisão', 'Revocação', 'Medida-F', 'Percentual de acertos'])\n",
    "ax.set_xticklabels(['', \"Distância Euclidiana\\n + 1,00\", \"Distância Euclidiana\\n + 1,05\", \"Distância Euclidiana\\n + 1,1\", \"Similaridade de Cossenos\\n + 0,4\", \"Similaridade de Cossenos\\n + 0,5\", \"Similaridade de Cossenos\\n + 0,6\"])\n",
    "ax.set_ylabel('Valor (%)')\n",
    "ax.set_xlabel('Cálculo da Distância + Valor limítrofe')\n",
    "plt.savefig('results/ufla V2V inception verificacao.pdf', format='pdf', bbox_inches='tight')"
   ]
  },
  {
   "cell_type": "markdown",
   "metadata": {},
   "source": [
    "### Testes para VGG Faces"
   ]
  },
  {
   "cell_type": "code",
   "execution_count": 23,
   "metadata": {},
   "outputs": [
    {
     "data": {
      "image/png": "[encoded data removed]",
      "text/plain": [
       "<Figure size 432x288 with 1 Axes>"
      ]
     },
     "metadata": {
      "needs_background": "light"
     },
     "output_type": "display_data"
    }
   ],
   "source": [
    "position_graphic = np.arange(6)\n",
    "fig = plt.figure()\n",
    "ax = fig.add_axes([0,0,2,1])\n",
    "data_for_graph = [[],[],[],[]]\n",
    "\n",
    "verification_test('vgg', dist_eucl, 0.00028)\n",
    "verification_test('vgg', dist_eucl, 0.00029)\n",
    "verification_test('vgg', dist_eucl, 0.00030)\n",
    "verification_test('vgg', dist_cos, 0.000100)\n",
    "verification_test('vgg', dist_cos, 0.000105)\n",
    "verification_test('vgg', dist_cos, 0.000110)\n",
    "\n",
    "rects1 = ax.bar(position_graphic - 0.40, data_for_graph[0], color = '#241623', width = 0.20)\n",
    "rects2 = ax.bar(position_graphic - 0.20, data_for_graph[1], color = '#D0CD94', width = 0.20)\n",
    "rects3 = ax.bar(position_graphic, data_for_graph[2], color = '#3C787E', width = 0.20)\n",
    "rects4 = ax.bar(position_graphic + 0.20, data_for_graph[3], color = '#C7EF00', width = 0.20)\n",
    "ax.legend(labels=['Precisão', 'Revocação', 'Medida-F', 'Percentual de acertos'])\n",
    "ax.set_xticklabels(['', \"Distância Euclidiana\\n\"+ r\"$2,8\\times10^{-4}$\", \"Distância Euclidiana\\n\"+ r\"$2,9\\times10^{-4}$\", \"Distância Euclidiana\\n\"+ r\"$3,0\\times10^{-4}$\", \"Similaridade de Cossenos\\n\"+ r\"$1,00\\times10^{-4}$\", \"Similaridade de Cossenos\\n\"+ r\"$1,05\\times10^{-4}$\", \"Similaridade de Cossenos\\n\"+ r\"$1,10\\times10^{-4}$\"])\n",
    "ax.set_ylabel('Valor (%)')\n",
    "ax.set_xlabel('Cálculo da Distância + Valor limítrofe')\n",
    "plt.savefig('results/ufla V2V vgg verificacao.pdf', format='pdf', bbox_inches='tight')"
   ]
  },
  {
   "cell_type": "code",
   "execution_count": 24,
   "metadata": {},
   "outputs": [],
   "source": [
    "file_output = open(\"results/verificacao_ufla_v2v.csv\", 'w')\n",
    "file_output.write(class_result)\n",
    "file_output.close()"
   ]
  }
 ],
 "metadata": {
  "kernelspec": {
   "display_name": "Python 3.7.8 64-bit ('env': venv)",
   "language": "python",
   "name": "python37864bitenvvenv700fe56a7ae44b73819b7219dcfc59c7"
  },
  "language_info": {
   "codemirror_mode": {
    "name": "ipython",
    "version": 3
   },
   "file_extension": ".py",
   "mimetype": "text/x-python",
   "name": "python",
   "nbconvert_exporter": "python",
   "pygments_lexer": "ipython3",
   "version": "3.7.8"
  }
 },
 "nbformat": 4,
 "nbformat_minor": 4
}
