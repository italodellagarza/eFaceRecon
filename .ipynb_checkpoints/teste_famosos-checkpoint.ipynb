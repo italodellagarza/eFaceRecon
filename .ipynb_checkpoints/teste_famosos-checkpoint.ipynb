{
 "cells": [
  {
   "cell_type": "markdown",
   "metadata": {},
   "source": [
    "# Teste com a parte de famosos da base de dados"
   ]
  },
  {
   "cell_type": "markdown",
   "metadata": {},
   "source": [
    "## Criação dos modelos"
   ]
  },
  {
   "cell_type": "code",
   "execution_count": 1,
   "metadata": {},
   "outputs": [
    {
     "name": "stderr",
     "output_type": "stream",
     "text": [
      "Using TensorFlow backend.\n",
      "/home/italo/eFaceRecon/env/lib/python3.7/site-packages/tensorflow/python/framework/dtypes.py:526: FutureWarning: Passing (type, 1) or '1type' as a synonym of type is deprecated; in a future version of numpy, it will be understood as (type, (1,)) / '(1,)type'.\n",
      "  _np_qint8 = np.dtype([(\"qint8\", np.int8, 1)])\n",
      "/home/italo/eFaceRecon/env/lib/python3.7/site-packages/tensorflow/python/framework/dtypes.py:527: FutureWarning: Passing (type, 1) or '1type' as a synonym of type is deprecated; in a future version of numpy, it will be understood as (type, (1,)) / '(1,)type'.\n",
      "  _np_quint8 = np.dtype([(\"quint8\", np.uint8, 1)])\n",
      "/home/italo/eFaceRecon/env/lib/python3.7/site-packages/tensorflow/python/framework/dtypes.py:528: FutureWarning: Passing (type, 1) or '1type' as a synonym of type is deprecated; in a future version of numpy, it will be understood as (type, (1,)) / '(1,)type'.\n",
      "  _np_qint16 = np.dtype([(\"qint16\", np.int16, 1)])\n",
      "/home/italo/eFaceRecon/env/lib/python3.7/site-packages/tensorflow/python/framework/dtypes.py:529: FutureWarning: Passing (type, 1) or '1type' as a synonym of type is deprecated; in a future version of numpy, it will be understood as (type, (1,)) / '(1,)type'.\n",
      "  _np_quint16 = np.dtype([(\"quint16\", np.uint16, 1)])\n",
      "/home/italo/eFaceRecon/env/lib/python3.7/site-packages/tensorflow/python/framework/dtypes.py:530: FutureWarning: Passing (type, 1) or '1type' as a synonym of type is deprecated; in a future version of numpy, it will be understood as (type, (1,)) / '(1,)type'.\n",
      "  _np_qint32 = np.dtype([(\"qint32\", np.int32, 1)])\n",
      "/home/italo/eFaceRecon/env/lib/python3.7/site-packages/tensorflow/python/framework/dtypes.py:535: FutureWarning: Passing (type, 1) or '1type' as a synonym of type is deprecated; in a future version of numpy, it will be understood as (type, (1,)) / '(1,)type'.\n",
      "  np_resource = np.dtype([(\"resource\", np.ubyte, 1)])\n"
     ]
    }
   ],
   "source": [
    "from nn4_small2_v1 import create_model as create_nn4\n",
    "from vgg_face import create_model as create_vgg\n",
    "from facenet import InceptionResNetV1 as create_facenet"
   ]
  },
  {
   "cell_type": "code",
   "execution_count": 2,
   "metadata": {},
   "outputs": [
    {
     "name": "stdout",
     "output_type": "stream",
     "text": [
      "WARNING:tensorflow:From /home/italo/eFaceRecon/env/lib/python3.7/site-packages/tensorflow/python/framework/op_def_library.py:263: colocate_with (from tensorflow.python.framework.ops) is deprecated and will be removed in a future version.\n",
      "Instructions for updating:\n",
      "Colocations handled automatically by placer.\n",
      "WARNING:tensorflow:From /home/italo/eFaceRecon/env/lib/python3.7/site-packages/keras/backend/tensorflow_backend.py:3445: calling dropout (from tensorflow.python.ops.nn_ops) with keep_prob is deprecated and will be removed in a future version.\n",
      "Instructions for updating:\n",
      "Please use `rate` instead of `keep_prob`. Rate should be set to `rate = 1 - keep_prob`.\n"
     ]
    }
   ],
   "source": [
    "nn4_small2 = create_nn4()\n",
    "vgg_face = create_vgg()\n",
    "facenet = create_facenet()\n",
    "nn4_small2.load_weights('weights/nn4.small2.v1.h5')\n",
    "vgg_face.load_weights('weights/vgg_face_weights.h5')\n",
    "facenet.load_weights('weights/facenet.h5')"
   ]
  },
  {
   "cell_type": "markdown",
   "metadata": {},
   "source": [
    "## Carregar a base de dados"
   ]
  },
  {
   "cell_type": "code",
   "execution_count": 3,
   "metadata": {},
   "outputs": [],
   "source": [
    "import numpy as np\n",
    "import os.path\n",
    "from person import Person\n",
    "\n",
    "\n",
    "def load_metadata(path):\n",
    "    metadata = []\n",
    "    for i in os.listdir(path):\n",
    "        for f in os.listdir(os.path.join(path, i)):\n",
    "            metadata.append(Person(path, i, f))\n",
    "    return np.array(metadata)\n",
    "\n",
    "faces = load_metadata('dataset/famosos')"
   ]
  },
  {
   "cell_type": "markdown",
   "metadata": {},
   "source": [
    "## Detecção e Alinhamento"
   ]
  },
  {
   "cell_type": "code",
   "execution_count": 4,
   "metadata": {},
   "outputs": [],
   "source": [
    "import cv2\n",
    "import dlib\n",
    "from image_align import align_image\n",
    "\n",
    "face_detector = cv2.CascadeClassifier(cv2.data.haarcascades + \"haarcascade_frontalface_default.xml\")\n",
    "\n",
    "def load_image(path):\n",
    "    img = cv2.imread(path, 1)\n",
    "    # O OpenCV carrega as imagens com os canais de cores\n",
    "    # na ordem BGR. Então precisamos invertê-las\n",
    "    return img[...,::-1]\n",
    "\n",
    "imgs_96 = []\n",
    "imgs_160 = []\n",
    "imgs_224 = []\n",
    "\n",
    "for i,f in enumerate(faces):\n",
    "    img = load_image(f.image_path())\n",
    "    gray =  cv2.cvtColor(img, cv2.COLOR_RGB2GRAY)\n",
    "    bounding_boxes = face_detector.detectMultiScale(gray, 1.3, 3)\n",
    "    aligned = None\n",
    "    for (x, y, w, h) in bounding_boxes:\n",
    "        aligned = align_image(img, dlib.rectangle(x,y,x+w,y+h), 224)\n",
    "    imgs_96.append(cv2.resize(aligned, (96, 96)))\n",
    "    imgs_160.append(cv2.resize(aligned, (160, 160)))\n",
    "    imgs_224.append(aligned)\n",
    "    # escala os valores RGB para o intervalo [0,1]\n",
    "    imgs_96[i] = (imgs_96[i] / 255. ).astype(np.float32)\n",
    "    imgs_160[i] = ((imgs_160[i] / 127.5) - 1.).astype(np.float32)\n",
    "    imgs_224[i] = ((imgs_224[i] / 127.5) - 1.).astype(np.float32)\n",
    "    "
   ]
  },
  {
   "cell_type": "markdown",
   "metadata": {},
   "source": [
    "## Extração de Atributos"
   ]
  },
  {
   "cell_type": "code",
   "execution_count": 5,
   "metadata": {},
   "outputs": [],
   "source": [
    "def l2_normalize(x):\n",
    "    return x / np.sqrt(np.sum(np.multiply(x, x)))\n",
    "\n",
    "embedded_nn4 = np.zeros((faces.shape[0], 128))\n",
    "embedded_facenet = np.zeros((faces.shape[0], 128))\n",
    "embedded_vgg = np.zeros((faces.shape[0], 2622))\n",
    "\n",
    "for i, f in enumerate(faces):\n",
    "    embedded_nn4[i] = nn4_small2.predict(np.expand_dims(imgs_96[i], axis=0))[0]\n",
    "    embedded_facenet[i] = l2_normalize(facenet.predict(np.expand_dims(imgs_160[i], axis=0))[0,:])\n",
    "    embedded_vgg[i] = vgg_face.predict(np.expand_dims(imgs_224[i], axis=0))[0,:]\n",
    "    # grava no vetor persons o seu embeddign vecor\n",
    "    f.embedded_nn4 = embedded_nn4[i]\n",
    "    f.embedded_facenet = embedded_facenet[i]\n",
    "    f.embedded_vgg = embedded_vgg[i]\n"
   ]
  },
  {
   "cell_type": "markdown",
   "metadata": {},
   "source": [
    "## Diferentes distâncias"
   ]
  },
  {
   "cell_type": "code",
   "execution_count": 6,
   "metadata": {},
   "outputs": [],
   "source": [
    "def dist_cos(source_representation, test_representation):\n",
    "    a = np.matmul(np.transpose(source_representation), test_representation)\n",
    "    b = np.sum(np.multiply(source_representation, source_representation))\n",
    "    c = np.sum(np.multiply(test_representation, test_representation))\n",
    "    return 1 - (a / (np.sqrt(b) * np.sqrt(c)))\n",
    " \n",
    "def dist_eucl(source_representation, test_representation):\n",
    "    euclidean_distance = source_representation - test_representation\n",
    "    euclidean_distance = np.sum(np.multiply(euclidean_distance, euclidean_distance))\n",
    "    euclidean_distance = np.sqrt(euclidean_distance)\n",
    "    return euclidean_distance"
   ]
  },
  {
   "cell_type": "markdown",
   "metadata": {},
   "source": [
    "## Classificação"
   ]
  },
  {
   "cell_type": "code",
   "execution_count": 7,
   "metadata": {},
   "outputs": [],
   "source": [
    "from sklearn.preprocessing import LabelEncoder\n",
    "from sklearn.neighbors import KNeighborsClassifier\n",
    "from sklearn.svm import LinearSVC\n",
    "from sklearn.metrics import classification_report, precision_score, recall_score, f1_score, accuracy_score\n",
    "from sklearn.tree import DecisionTreeClassifier\n",
    "from sklearn.ensemble import RandomForestClassifier, AdaBoostClassifier\n",
    "from sklearn.naive_bayes import GaussianNB\n",
    "import math\n",
    "import matplotlib.pyplot as plt\n",
    "\n",
    "np.random.seed(30)\n",
    "\n",
    "def format_float(n, decimals=2):\n",
    "    multiplier = 10 ** decimals\n",
    "    new_f = math.floor(n*multiplier + 0.5) / multiplier\n",
    "    return \"{:.2f}\".format(new_f).replace('.',',')\n",
    "\n",
    "\n",
    "# string para gravar os resultados de classificação em csv\n",
    "class_result = \"RNC;Classificador;Precisão (%);Revocação (%);Medida-F (%);Percentual de acertos\\n\"\n",
    "\n",
    "\n",
    "# Para plotar o gráfico\n",
    "# data_for_graph[0] = precisão\n",
    "# data_for_graph[1] = revocação\n",
    "# data_for_graph[2] = medida-F\n",
    "# data_for_graph[3] = percentual de acertos\n",
    "\n",
    "targets = np.array([f.name for f in faces])\n",
    "data_for_graph = None\n",
    "encoder = LabelEncoder()\n",
    "encoder.fit(targets)\n",
    "\n",
    "# Transformar as classes em números\n",
    "y = encoder.transform(targets)\n",
    "\n",
    "train_indexes = np.random.rand(faces.shape[0]) <= 0.7 \n",
    "\n",
    "\n",
    "def write_results(y_true, y_pred, method, neural_net):\n",
    "    global class_result\n",
    "    global data_for_graph\n",
    "    \n",
    "    precisao = precision_score(y_true, y_pred, average='macro') * 100.0\n",
    "    data_for_graph[0].append(precisao)\n",
    "    revocacao = recall_score(y_true, y_pred, average='macro') * 100.0\n",
    "    data_for_graph[1].append(revocacao)\n",
    "    medida_f = f1_score(y_true, y_pred, average='macro') * 100.0\n",
    "    data_for_graph[2].append(medida_f)\n",
    "    percentual_acertos = accuracy_score(y_true, y_pred) * 100.0\n",
    "    data_for_graph[3].append(medida_f)\n",
    "    class_result += neural_net + \";\" + method + \";\" + format_float(precisao) + \";\" + format_float(revocacao) + \\\n",
    "            \";\" + format_float(medida_f) + \";\" + format_float(percentual_acertos) + \"\\n\"\n",
    "\n",
    "\n",
    "def classify_and_report(neural_net):\n",
    "    global data_for_graph\n",
    "    global X_train\n",
    "    \n",
    "    data_for_graph = [[],[],[],[]]\n",
    "    \n",
    "    # Construindo os classificadores.\n",
    "    knn = KNeighborsClassifier(n_neighbors=1, metric='euclidean')\n",
    "    svm = LinearSVC()\n",
    "    decision_tree = DecisionTreeClassifier(random_state=0, min_samples_split=5)\n",
    "    random_forest = RandomForestClassifier(random_state=0, min_samples_split=5, n_estimators=60)\n",
    "    adaboost = AdaBoostClassifier(random_state=0, n_estimators=20, base_estimator=DecisionTreeClassifier(max_depth=5))\n",
    "    naive_bayes = GaussianNB()\n",
    "    \n",
    "    \n",
    "    \n",
    "    knn.fit(X_train, y_train)\n",
    "    decision_tree.fit(X_train, y_train)\n",
    "    random_forest.fit(X_train, y_train)\n",
    "    adaboost.fit(X_train, y_train)\n",
    "    naive_bayes.fit(X_train, y_train)\n",
    "    svm.fit(X_train, y_train)\n",
    "\n",
    "    y_knn = knn.predict(X_test)\n",
    "    y_svm = svm.predict(X_test)\n",
    "    y_decision_tree = decision_tree.predict(X_test)\n",
    "    y_random_forest = random_forest.predict(X_test)\n",
    "    y_adaboost = adaboost.predict(X_test)\n",
    "    y_naive_bayes = naive_bayes.predict(X_test)\n",
    "\n",
    "    # Gerar o relatório de classificação\n",
    "    class_knn = classification_report(y_test, y_knn, target_names=encoder.classes_)\n",
    "    write_results(y_test, y_knn, 'KNN', neural_net)\n",
    "    \n",
    "    class_svm = classification_report(y_test, y_svm, target_names=encoder.classes_)\n",
    "    write_results(y_test, y_svm, 'SVM', neural_net)\n",
    "    \n",
    "    class_decision_tree = classification_report(y_test, y_decision_tree, target_names=encoder.classes_)\n",
    "    write_results(y_test, y_decision_tree, 'Árvore de Decisão', neural_net)\n",
    "    \n",
    "    class_random_forest = classification_report(y_test, y_random_forest, target_names=encoder.classes_)\n",
    "    write_results(y_test, y_random_forest, 'Random Forest', neural_net)\n",
    "    \n",
    "    class_adaboost = classification_report(y_test, y_adaboost, target_names=encoder.classes_)\n",
    "    write_results(y_test, y_adaboost, 'Adaboost', neural_net)\n",
    "    \n",
    "    class_naive_bayes = classification_report(y_test, y_naive_bayes, target_names=encoder.classes_)\n",
    "    write_results(y_test, y_naive_bayes, 'Naive Bayes', neural_net)\n",
    "\n",
    "    print(\"KNN\\n\\n\" + class_knn)\n",
    "    print(\"SVM\\n\\n\" + class_svm)\n",
    "    print(\"Decision Tree\\n\\n\" + class_decision_tree)\n",
    "    print(\"Random Forest\\n\\n\" + class_random_forest)\n",
    "    print(\"Adaboost\\n\\n\" + class_adaboost)\n",
    "    print(\"Naive Bayes\\n\\n\" + class_naive_bayes)\n",
    "    \n",
    "    position_graphic = np.arange(6)\n",
    "    fig = plt.figure()\n",
    "    ax = fig.add_axes([0,0,2,1])\n",
    "    rects1 = ax.bar(position_graphic - 0.40, data_for_graph[0], color = '#241623', width = 0.20)\n",
    "    rects2 = ax.bar(position_graphic - 0.20, data_for_graph[1], color = '#D0CD94', width = 0.20)\n",
    "    rects3 = ax.bar(position_graphic, data_for_graph[2], color = '#3C787E', width = 0.20)\n",
    "    rects4 = ax.bar(position_graphic + 0.20, data_for_graph[3], color = '#C7EF00', width = 0.20)\n",
    "    ax.legend(labels=['Precisão', 'Revocação', 'Medida-F', 'Percentual de acertos'])\n",
    "    ax.set_xticklabels(['', 'KNN', 'SVM', 'Árvore de Decisão', 'Random Forest', 'Adaboost', 'Naive Bayes'])\n",
    "    ax.set_ylabel('Valor (%)')\n",
    "    ax.set_xlabel('Método de classificação')\n",
    "    \n",
    "    plt.savefig('results/famosos S2S '+ neural_net +'classificacao.pdf', format='pdf', bbox_inches='tight')\n",
    "    plt.show()\n",
    "    "
   ]
  },
  {
   "cell_type": "markdown",
   "metadata": {},
   "source": [
    "### Classificações NN4 Small 1"
   ]
  },
  {
   "cell_type": "code",
   "execution_count": 8,
   "metadata": {},
   "outputs": [
    {
     "name": "stderr",
     "output_type": "stream",
     "text": [
      "/home/italo/eFaceRecon/env/lib/python3.7/site-packages/sklearn/metrics/classification.py:1143: UndefinedMetricWarning: Precision and F-score are ill-defined and being set to 0.0 in labels with no predicted samples.\n",
      "  'precision', 'predicted', average, warn_for)\n",
      "/home/italo/eFaceRecon/env/lib/python3.7/site-packages/sklearn/metrics/classification.py:1143: UndefinedMetricWarning: Precision is ill-defined and being set to 0.0 in labels with no predicted samples.\n",
      "  'precision', 'predicted', average, warn_for)\n",
      "/home/italo/eFaceRecon/env/lib/python3.7/site-packages/sklearn/metrics/classification.py:1143: UndefinedMetricWarning: F-score is ill-defined and being set to 0.0 in labels with no predicted samples.\n",
      "  'precision', 'predicted', average, warn_for)\n"
     ]
    },
    {
     "name": "stdout",
     "output_type": "stream",
     "text": [
      "KNN\n",
      "\n",
      "                       precision    recall  f1-score   support\n",
      "\n",
      "         Ariel_Sharon       0.80      1.00      0.89         4\n",
      "Arnold_Schwarzenegger       1.00      0.80      0.89         5\n",
      "         Colin_Powell       1.00      1.00      1.00         3\n",
      "      Donald_Rumsfeld       1.00      1.00      1.00         1\n",
      "        George_W_Bush       1.00      1.00      1.00         2\n",
      "    Gerhard_Schroeder       1.00      1.00      1.00         2\n",
      "          Hugo_Chavez       1.00      1.00      1.00         2\n",
      "       Jacques_Chirac       1.00      1.00      1.00         1\n",
      "           Tony_Blair       1.00      1.00      1.00         2\n",
      "       Vladimir_Putin       1.00      1.00      1.00         1\n",
      "\n",
      "            micro avg       0.96      0.96      0.96        23\n",
      "            macro avg       0.98      0.98      0.98        23\n",
      "         weighted avg       0.97      0.96      0.96        23\n",
      "\n",
      "SVM\n",
      "\n",
      "                       precision    recall  f1-score   support\n",
      "\n",
      "         Ariel_Sharon       0.80      1.00      0.89         4\n",
      "Arnold_Schwarzenegger       1.00      0.60      0.75         5\n",
      "         Colin_Powell       1.00      1.00      1.00         3\n",
      "      Donald_Rumsfeld       1.00      1.00      1.00         1\n",
      "        George_W_Bush       1.00      1.00      1.00         2\n",
      "    Gerhard_Schroeder       1.00      1.00      1.00         2\n",
      "          Hugo_Chavez       1.00      1.00      1.00         2\n",
      "       Jacques_Chirac       1.00      1.00      1.00         1\n",
      "           Tony_Blair       1.00      1.00      1.00         2\n",
      "       Vladimir_Putin       0.50      1.00      0.67         1\n",
      "\n",
      "            micro avg       0.91      0.91      0.91        23\n",
      "            macro avg       0.93      0.96      0.93        23\n",
      "         weighted avg       0.94      0.91      0.91        23\n",
      "\n",
      "Decision Tree\n",
      "\n",
      "                       precision    recall  f1-score   support\n",
      "\n",
      "         Ariel_Sharon       0.50      0.75      0.60         4\n",
      "Arnold_Schwarzenegger       1.00      0.20      0.33         5\n",
      "         Colin_Powell       0.67      0.67      0.67         3\n",
      "      Donald_Rumsfeld       0.00      0.00      0.00         1\n",
      "        George_W_Bush       1.00      1.00      1.00         2\n",
      "    Gerhard_Schroeder       1.00      0.50      0.67         2\n",
      "          Hugo_Chavez       1.00      1.00      1.00         2\n",
      "       Jacques_Chirac       0.33      1.00      0.50         1\n",
      "           Tony_Blair       0.00      0.00      0.00         2\n",
      "       Vladimir_Putin       0.25      1.00      0.40         1\n",
      "\n",
      "            micro avg       0.57      0.57      0.57        23\n",
      "            macro avg       0.57      0.61      0.52        23\n",
      "         weighted avg       0.68      0.57      0.53        23\n",
      "\n",
      "Random Forest\n",
      "\n",
      "                       precision    recall  f1-score   support\n",
      "\n",
      "         Ariel_Sharon       1.00      1.00      1.00         4\n",
      "Arnold_Schwarzenegger       1.00      0.40      0.57         5\n",
      "         Colin_Powell       1.00      1.00      1.00         3\n",
      "      Donald_Rumsfeld       1.00      1.00      1.00         1\n",
      "        George_W_Bush       1.00      1.00      1.00         2\n",
      "    Gerhard_Schroeder       1.00      1.00      1.00         2\n",
      "          Hugo_Chavez       0.67      1.00      0.80         2\n",
      "       Jacques_Chirac       1.00      1.00      1.00         1\n",
      "           Tony_Blair       1.00      1.00      1.00         2\n",
      "       Vladimir_Putin       0.33      1.00      0.50         1\n",
      "\n",
      "            micro avg       0.87      0.87      0.87        23\n",
      "            macro avg       0.90      0.94      0.89        23\n",
      "         weighted avg       0.94      0.87      0.87        23\n",
      "\n",
      "Adaboost\n",
      "\n",
      "                       precision    recall  f1-score   support\n",
      "\n",
      "         Ariel_Sharon       0.50      0.75      0.60         4\n",
      "Arnold_Schwarzenegger       0.75      0.60      0.67         5\n",
      "         Colin_Powell       0.33      0.33      0.33         3\n",
      "      Donald_Rumsfeld       0.00      0.00      0.00         1\n",
      "        George_W_Bush       0.50      1.00      0.67         2\n",
      "    Gerhard_Schroeder       0.00      0.00      0.00         2\n",
      "          Hugo_Chavez       1.00      1.00      1.00         2\n",
      "       Jacques_Chirac       0.50      1.00      0.67         1\n",
      "           Tony_Blair       0.00      0.00      0.00         2\n",
      "       Vladimir_Putin       1.00      1.00      1.00         1\n",
      "\n",
      "            micro avg       0.57      0.57      0.57        23\n",
      "            macro avg       0.46      0.57      0.49        23\n",
      "         weighted avg       0.49      0.57      0.51        23\n",
      "\n",
      "Naive Bayes\n",
      "\n",
      "                       precision    recall  f1-score   support\n",
      "\n",
      "         Ariel_Sharon       0.80      1.00      0.89         4\n",
      "Arnold_Schwarzenegger       1.00      0.80      0.89         5\n",
      "         Colin_Powell       1.00      0.67      0.80         3\n",
      "      Donald_Rumsfeld       1.00      1.00      1.00         1\n",
      "        George_W_Bush       1.00      1.00      1.00         2\n",
      "    Gerhard_Schroeder       1.00      1.00      1.00         2\n",
      "          Hugo_Chavez       1.00      1.00      1.00         2\n",
      "       Jacques_Chirac       1.00      1.00      1.00         1\n",
      "           Tony_Blair       0.67      1.00      0.80         2\n",
      "       Vladimir_Putin       1.00      1.00      1.00         1\n",
      "\n",
      "            micro avg       0.91      0.91      0.91        23\n",
      "            macro avg       0.95      0.95      0.94        23\n",
      "         weighted avg       0.94      0.91      0.91        23\n",
      "\n"
     ]
    },
    {
     "data": {
      "image/png": "[encoded data removed]",
      "text/plain": [
       "<Figure size 432x288 with 1 Axes>"
      ]
     },
     "metadata": {
      "needs_background": "light"
     },
     "output_type": "display_data"
    }
   ],
   "source": [
    "# Separando em treino e teste\n",
    "test_indexes = ~train_indexes        \n",
    "X_train = embedded_nn4[train_indexes]\n",
    "X_test = embedded_nn4[test_indexes]\n",
    "y_train = y[train_indexes]\n",
    "y_test = y[test_indexes]\n",
    "\n",
    "classify_and_report('NN4 Small 1')"
   ]
  },
  {
   "cell_type": "markdown",
   "metadata": {},
   "source": [
    "### Classificações Inception Resnet V1"
   ]
  },
  {
   "cell_type": "code",
   "execution_count": 9,
   "metadata": {},
   "outputs": [
    {
     "name": "stderr",
     "output_type": "stream",
     "text": [
      "/home/italo/eFaceRecon/env/lib/python3.7/site-packages/sklearn/metrics/classification.py:1143: UndefinedMetricWarning: Precision and F-score are ill-defined and being set to 0.0 in labels with no predicted samples.\n",
      "  'precision', 'predicted', average, warn_for)\n",
      "/home/italo/eFaceRecon/env/lib/python3.7/site-packages/sklearn/metrics/classification.py:1143: UndefinedMetricWarning: Precision is ill-defined and being set to 0.0 in labels with no predicted samples.\n",
      "  'precision', 'predicted', average, warn_for)\n",
      "/home/italo/eFaceRecon/env/lib/python3.7/site-packages/sklearn/metrics/classification.py:1143: UndefinedMetricWarning: F-score is ill-defined and being set to 0.0 in labels with no predicted samples.\n",
      "  'precision', 'predicted', average, warn_for)\n"
     ]
    },
    {
     "name": "stdout",
     "output_type": "stream",
     "text": [
      "KNN\n",
      "\n",
      "                       precision    recall  f1-score   support\n",
      "\n",
      "         Ariel_Sharon       1.00      1.00      1.00         4\n",
      "Arnold_Schwarzenegger       1.00      0.40      0.57         5\n",
      "         Colin_Powell       0.75      1.00      0.86         3\n",
      "      Donald_Rumsfeld       0.50      1.00      0.67         1\n",
      "        George_W_Bush       1.00      1.00      1.00         2\n",
      "    Gerhard_Schroeder       0.50      1.00      0.67         2\n",
      "          Hugo_Chavez       1.00      1.00      1.00         2\n",
      "       Jacques_Chirac       1.00      1.00      1.00         1\n",
      "           Tony_Blair       1.00      0.50      0.67         2\n",
      "       Vladimir_Putin       1.00      1.00      1.00         1\n",
      "\n",
      "            micro avg       0.83      0.83      0.83        23\n",
      "            macro avg       0.88      0.89      0.84        23\n",
      "         weighted avg       0.90      0.83      0.82        23\n",
      "\n",
      "SVM\n",
      "\n",
      "                       precision    recall  f1-score   support\n",
      "\n",
      "         Ariel_Sharon       1.00      1.00      1.00         4\n",
      "Arnold_Schwarzenegger       1.00      0.60      0.75         5\n",
      "         Colin_Powell       1.00      1.00      1.00         3\n",
      "      Donald_Rumsfeld       1.00      1.00      1.00         1\n",
      "        George_W_Bush       1.00      1.00      1.00         2\n",
      "    Gerhard_Schroeder       0.50      1.00      0.67         2\n",
      "          Hugo_Chavez       1.00      1.00      1.00         2\n",
      "       Jacques_Chirac       1.00      1.00      1.00         1\n",
      "           Tony_Blair       1.00      1.00      1.00         2\n",
      "       Vladimir_Putin       1.00      1.00      1.00         1\n",
      "\n",
      "            micro avg       0.91      0.91      0.91        23\n",
      "            macro avg       0.95      0.96      0.94        23\n",
      "         weighted avg       0.96      0.91      0.92        23\n",
      "\n",
      "Decision Tree\n",
      "\n",
      "                       precision    recall  f1-score   support\n",
      "\n",
      "         Ariel_Sharon       0.50      0.25      0.33         4\n",
      "Arnold_Schwarzenegger       0.67      0.40      0.50         5\n",
      "         Colin_Powell       1.00      0.67      0.80         3\n",
      "      Donald_Rumsfeld       1.00      1.00      1.00         1\n",
      "        George_W_Bush       0.67      1.00      0.80         2\n",
      "    Gerhard_Schroeder       0.40      1.00      0.57         2\n",
      "          Hugo_Chavez       1.00      0.50      0.67         2\n",
      "       Jacques_Chirac       1.00      1.00      1.00         1\n",
      "           Tony_Blair       0.20      0.50      0.29         2\n",
      "       Vladimir_Putin       0.00      0.00      0.00         1\n",
      "\n",
      "            micro avg       0.57      0.57      0.57        23\n",
      "            macro avg       0.64      0.63      0.60        23\n",
      "         weighted avg       0.65      0.57      0.56        23\n",
      "\n",
      "Random Forest\n",
      "\n",
      "                       precision    recall  f1-score   support\n",
      "\n",
      "         Ariel_Sharon       1.00      1.00      1.00         4\n",
      "Arnold_Schwarzenegger       1.00      0.40      0.57         5\n",
      "         Colin_Powell       1.00      1.00      1.00         3\n",
      "      Donald_Rumsfeld       1.00      1.00      1.00         1\n",
      "        George_W_Bush       1.00      1.00      1.00         2\n",
      "    Gerhard_Schroeder       0.67      1.00      0.80         2\n",
      "          Hugo_Chavez       0.50      0.50      0.50         2\n",
      "       Jacques_Chirac       0.33      1.00      0.50         1\n",
      "           Tony_Blair       1.00      1.00      1.00         2\n",
      "       Vladimir_Putin       1.00      1.00      1.00         1\n",
      "\n",
      "            micro avg       0.83      0.83      0.83        23\n",
      "            macro avg       0.85      0.89      0.84        23\n",
      "         weighted avg       0.90      0.83      0.82        23\n",
      "\n",
      "Adaboost\n",
      "\n",
      "                       precision    recall  f1-score   support\n",
      "\n",
      "         Ariel_Sharon       1.00      0.75      0.86         4\n",
      "Arnold_Schwarzenegger       1.00      0.40      0.57         5\n",
      "         Colin_Powell       1.00      1.00      1.00         3\n",
      "      Donald_Rumsfeld       1.00      1.00      1.00         1\n",
      "        George_W_Bush       1.00      1.00      1.00         2\n",
      "    Gerhard_Schroeder       0.67      1.00      0.80         2\n",
      "          Hugo_Chavez       1.00      1.00      1.00         2\n",
      "       Jacques_Chirac       0.33      1.00      0.50         1\n",
      "           Tony_Blair       0.67      1.00      0.80         2\n",
      "       Vladimir_Putin       1.00      1.00      1.00         1\n",
      "\n",
      "            micro avg       0.83      0.83      0.83        23\n",
      "            macro avg       0.87      0.92      0.85        23\n",
      "         weighted avg       0.91      0.83      0.83        23\n",
      "\n",
      "Naive Bayes\n",
      "\n",
      "                       precision    recall  f1-score   support\n",
      "\n",
      "         Ariel_Sharon       1.00      1.00      1.00         4\n",
      "Arnold_Schwarzenegger       1.00      0.40      0.57         5\n",
      "         Colin_Powell       1.00      0.33      0.50         3\n",
      "      Donald_Rumsfeld       1.00      1.00      1.00         1\n",
      "        George_W_Bush       0.67      1.00      0.80         2\n",
      "    Gerhard_Schroeder       0.50      1.00      0.67         2\n",
      "          Hugo_Chavez       1.00      0.50      0.67         2\n",
      "       Jacques_Chirac       1.00      1.00      1.00         1\n",
      "           Tony_Blair       0.40      1.00      0.57         2\n",
      "       Vladimir_Putin       1.00      1.00      1.00         1\n",
      "\n",
      "            micro avg       0.74      0.74      0.74        23\n",
      "            macro avg       0.86      0.82      0.78        23\n",
      "         weighted avg       0.88      0.74      0.73        23\n",
      "\n"
     ]
    },
    {
     "data": {
      "image/png": "[encoded data removed]",
      "text/plain": [
       "<Figure size 432x288 with 1 Axes>"
      ]
     },
     "metadata": {
      "needs_background": "light"
     },
     "output_type": "display_data"
    }
   ],
   "source": [
    "# Separando em treino e teste\n",
    "test_indexes = ~train_indexes        \n",
    "X_train = embedded_facenet[train_indexes]\n",
    "X_test = embedded_facenet[test_indexes]\n",
    "y_train = y[train_indexes]\n",
    "y_test = y[test_indexes]\n",
    "\n",
    "classify_and_report('Inception Resnet V1')"
   ]
  },
  {
   "cell_type": "markdown",
   "metadata": {},
   "source": [
    "### Classificações VGG Faces"
   ]
  },
  {
   "cell_type": "code",
   "execution_count": 10,
   "metadata": {},
   "outputs": [
    {
     "name": "stderr",
     "output_type": "stream",
     "text": [
      "/home/italo/eFaceRecon/env/lib/python3.7/site-packages/sklearn/metrics/classification.py:1143: UndefinedMetricWarning: Precision and F-score are ill-defined and being set to 0.0 in labels with no predicted samples.\n",
      "  'precision', 'predicted', average, warn_for)\n",
      "/home/italo/eFaceRecon/env/lib/python3.7/site-packages/sklearn/metrics/classification.py:1143: UndefinedMetricWarning: Precision is ill-defined and being set to 0.0 in labels with no predicted samples.\n",
      "  'precision', 'predicted', average, warn_for)\n",
      "/home/italo/eFaceRecon/env/lib/python3.7/site-packages/sklearn/metrics/classification.py:1143: UndefinedMetricWarning: F-score is ill-defined and being set to 0.0 in labels with no predicted samples.\n",
      "  'precision', 'predicted', average, warn_for)\n"
     ]
    },
    {
     "name": "stdout",
     "output_type": "stream",
     "text": [
      "KNN\n",
      "\n",
      "                       precision    recall  f1-score   support\n",
      "\n",
      "         Ariel_Sharon       0.80      1.00      0.89         4\n",
      "Arnold_Schwarzenegger       1.00      0.60      0.75         5\n",
      "         Colin_Powell       1.00      1.00      1.00         3\n",
      "      Donald_Rumsfeld       1.00      1.00      1.00         1\n",
      "        George_W_Bush       1.00      1.00      1.00         2\n",
      "    Gerhard_Schroeder       1.00      1.00      1.00         2\n",
      "          Hugo_Chavez       1.00      1.00      1.00         2\n",
      "       Jacques_Chirac       1.00      1.00      1.00         1\n",
      "           Tony_Blair       0.67      1.00      0.80         2\n",
      "       Vladimir_Putin       1.00      1.00      1.00         1\n",
      "\n",
      "            micro avg       0.91      0.91      0.91        23\n",
      "            macro avg       0.95      0.96      0.94        23\n",
      "         weighted avg       0.94      0.91      0.91        23\n",
      "\n",
      "SVM\n",
      "\n",
      "                       precision    recall  f1-score   support\n",
      "\n",
      "         Ariel_Sharon       0.00      0.00      0.00         4\n",
      "Arnold_Schwarzenegger       0.00      0.00      0.00         5\n",
      "         Colin_Powell       0.00      0.00      0.00         3\n",
      "      Donald_Rumsfeld       0.00      0.00      0.00         1\n",
      "        George_W_Bush       0.00      0.00      0.00         2\n",
      "    Gerhard_Schroeder       0.00      0.00      0.00         2\n",
      "          Hugo_Chavez       0.00      0.00      0.00         2\n",
      "       Jacques_Chirac       0.00      0.00      0.00         1\n",
      "           Tony_Blair       0.00      0.00      0.00         2\n",
      "       Vladimir_Putin       0.04      1.00      0.08         1\n",
      "\n",
      "            micro avg       0.04      0.04      0.04        23\n",
      "            macro avg       0.00      0.10      0.01        23\n",
      "         weighted avg       0.00      0.04      0.00        23\n",
      "\n",
      "Decision Tree\n",
      "\n",
      "                       precision    recall  f1-score   support\n",
      "\n",
      "         Ariel_Sharon       1.00      0.50      0.67         4\n",
      "Arnold_Schwarzenegger       1.00      0.20      0.33         5\n",
      "         Colin_Powell       0.75      1.00      0.86         3\n",
      "      Donald_Rumsfeld       0.50      1.00      0.67         1\n",
      "        George_W_Bush       0.50      0.50      0.50         2\n",
      "    Gerhard_Schroeder       0.33      0.50      0.40         2\n",
      "          Hugo_Chavez       0.33      0.50      0.40         2\n",
      "       Jacques_Chirac       0.00      0.00      0.00         1\n",
      "           Tony_Blair       0.50      0.50      0.50         2\n",
      "       Vladimir_Putin       0.33      1.00      0.50         1\n",
      "\n",
      "            micro avg       0.52      0.52      0.52        23\n",
      "            macro avg       0.52      0.57      0.48        23\n",
      "         weighted avg       0.67      0.52      0.51        23\n",
      "\n",
      "Random Forest\n",
      "\n",
      "                       precision    recall  f1-score   support\n",
      "\n",
      "         Ariel_Sharon       1.00      1.00      1.00         4\n",
      "Arnold_Schwarzenegger       1.00      0.40      0.57         5\n",
      "         Colin_Powell       1.00      1.00      1.00         3\n",
      "      Donald_Rumsfeld       1.00      1.00      1.00         1\n",
      "        George_W_Bush       1.00      1.00      1.00         2\n",
      "    Gerhard_Schroeder       1.00      1.00      1.00         2\n",
      "          Hugo_Chavez       1.00      1.00      1.00         2\n",
      "       Jacques_Chirac       1.00      1.00      1.00         1\n",
      "           Tony_Blair       0.50      1.00      0.67         2\n",
      "       Vladimir_Putin       0.50      1.00      0.67         1\n",
      "\n",
      "            micro avg       0.87      0.87      0.87        23\n",
      "            macro avg       0.90      0.94      0.89        23\n",
      "         weighted avg       0.93      0.87      0.86        23\n",
      "\n",
      "Adaboost\n",
      "\n",
      "                       precision    recall  f1-score   support\n",
      "\n",
      "         Ariel_Sharon       0.75      0.75      0.75         4\n",
      "Arnold_Schwarzenegger       1.00      0.40      0.57         5\n",
      "         Colin_Powell       1.00      1.00      1.00         3\n",
      "      Donald_Rumsfeld       0.50      1.00      0.67         1\n",
      "        George_W_Bush       1.00      0.50      0.67         2\n",
      "    Gerhard_Schroeder       0.50      1.00      0.67         2\n",
      "          Hugo_Chavez       1.00      0.50      0.67         2\n",
      "       Jacques_Chirac       0.00      0.00      0.00         1\n",
      "           Tony_Blair       0.33      0.50      0.40         2\n",
      "       Vladimir_Putin       0.33      1.00      0.50         1\n",
      "\n",
      "            micro avg       0.65      0.65      0.65        23\n",
      "            macro avg       0.64      0.67      0.59        23\n",
      "         weighted avg       0.76      0.65      0.64        23\n",
      "\n",
      "Naive Bayes\n",
      "\n",
      "                       precision    recall  f1-score   support\n",
      "\n",
      "         Ariel_Sharon       1.00      1.00      1.00         4\n",
      "Arnold_Schwarzenegger       1.00      0.60      0.75         5\n",
      "         Colin_Powell       1.00      1.00      1.00         3\n",
      "      Donald_Rumsfeld       0.50      1.00      0.67         1\n",
      "        George_W_Bush       1.00      1.00      1.00         2\n",
      "    Gerhard_Schroeder       1.00      1.00      1.00         2\n",
      "          Hugo_Chavez       0.67      1.00      0.80         2\n",
      "       Jacques_Chirac       0.00      0.00      0.00         1\n",
      "           Tony_Blair       0.67      1.00      0.80         2\n",
      "       Vladimir_Putin       1.00      1.00      1.00         1\n",
      "\n",
      "            micro avg       0.87      0.87      0.87        23\n",
      "            macro avg       0.78      0.86      0.80        23\n",
      "         weighted avg       0.88      0.87      0.85        23\n",
      "\n"
     ]
    },
    {
     "data": {
      "image/png": "[encoded data removed]",
      "text/plain": [
       "<Figure size 432x288 with 1 Axes>"
      ]
     },
     "metadata": {
      "needs_background": "light"
     },
     "output_type": "display_data"
    }
   ],
   "source": [
    "# Separando em treino e teste\n",
    "test_indexes = ~train_indexes        \n",
    "X_train = embedded_vgg[train_indexes]\n",
    "X_test = embedded_vgg[test_indexes]\n",
    "y_train = y[train_indexes]\n",
    "y_test = y[test_indexes]\n",
    "\n",
    "classify_and_report('VGG Faces')"
   ]
  },
  {
   "cell_type": "markdown",
   "metadata": {},
   "source": [
    "### Gravar resultados em arquivo"
   ]
  },
  {
   "cell_type": "code",
   "execution_count": 11,
   "metadata": {},
   "outputs": [],
   "source": [
    "file_output = open(\"results/classificacao_famosos.csv\", 'w')\n",
    "file_output.write(class_result)\n",
    "file_output.close()"
   ]
  },
  {
   "cell_type": "markdown",
   "metadata": {},
   "source": [
    "## Verificação Facial"
   ]
  },
  {
   "cell_type": "markdown",
   "metadata": {},
   "source": [
    "### Separar as imagens em pares"
   ]
  },
  {
   "cell_type": "code",
   "execution_count": 12,
   "metadata": {},
   "outputs": [],
   "source": [
    "names = np.unique([f.name for f in faces])\n",
    "pares = []\n",
    "faces_restantes = []\n",
    "for name in names:\n",
    "    faces_pessoa = [f for f in faces if f.name == name]\n",
    "    faces_pessoa_iguais = faces_pessoa[:4]\n",
    "    faces_restantes += faces_pessoa[4:]\n",
    "    np.random.shuffle(faces_pessoa_iguais)\n",
    "    pares += [faces_pessoa_iguais[i*2: (i+1)*2] for i in range(2)]\n",
    "np.random.shuffle(faces_restantes)\n",
    "pares += [faces_restantes[i*2: (i+1)*2] for i in range(30)]"
   ]
  },
  {
   "cell_type": "markdown",
   "metadata": {},
   "source": [
    "### Definir uma função geral de verificação"
   ]
  },
  {
   "cell_type": "code",
   "execution_count": 13,
   "metadata": {},
   "outputs": [],
   "source": [
    "import matplotlib.pyplot as plt\n",
    "data_for_graph = None\n",
    "\n",
    "# Para plotar o gráfico\n",
    "# data_for_graph[0] = precisão\n",
    "# data_for_graph[1] = revocação\n",
    "# data_for_graph[2] = medida-F\n",
    "# data_for_graph[3] = percentual de erros\n",
    "\n",
    "\n",
    "# string para gravar os resultados de classificação em csv\n",
    "class_result = \"RNC;Cálculo da distância;Limítrofe;Precisão (%);Revocação (%);Medida-F (%);Percentual de acertos\\n\"\n",
    "\n",
    "# redefinição da função de escrever resultados\n",
    "def write_results(y_true, y_pred, distance_calc, threshold, neural_net):\n",
    "    global class_result\n",
    "    global data_for_graph\n",
    "    precisao = precision_score(y_true, y_pred, average='macro') * 100.0\n",
    "    data_for_graph[0].append(precisao)\n",
    "    revocacao = recall_score(y_true, y_pred, average='macro') * 100.0\n",
    "    data_for_graph[1].append(revocacao)\n",
    "    medida_f = f1_score(y_true, y_pred, average='macro') * 100.0\n",
    "    data_for_graph[2].append(medida_f)\n",
    "    percentual_acertos = accuracy_score(y_true, y_pred) * 100.0\n",
    "    data_for_graph[3].append(percentual_acertos)\n",
    "    class_result += neural_net + \";\" + distance_calc + \";\" + threshold + \";\" + format_float(precisao) + \";\" + \\\n",
    "                    format_float(revocacao) + \";\" + format_float(medida_f) + \";\" + \\\n",
    "                    format_float(percentual_acertos) + \"\\n\" \n",
    "\n",
    "\n",
    "def verification_test(network, dist_function, threshold):\n",
    "    y_pred = []\n",
    "    y_true = []\n",
    "    d_name = 'Euclideana'\n",
    "    if dist_function == dist_cos:\n",
    "        d_name = \"Cosseno\"\n",
    "    network_name = 'NN4 Small 1'\n",
    "    if network == 'facenet':\n",
    "        network_name = 'Inception Resnet V1'\n",
    "    elif network == 'vgg':\n",
    "        network_name = 'VGG Faces'\n",
    "    for p in pares:\n",
    "        p1 = p[0].load_embedded(network)\n",
    "        p2 = p[1].load_embedded(network)\n",
    "        same = True\n",
    "        if p[0].name == p[1].name:\n",
    "            y_true.append(1)\n",
    "        else:\n",
    "            y_true.append(0)\n",
    "        if(dist_function(p1,p2) > threshold):\n",
    "            y_pred.append(0)\n",
    "        else:\n",
    "            y_pred.append(1)\n",
    "    \n",
    "    write_results(y_true, y_pred, d_name, str(threshold), network_name)"
   ]
  },
  {
   "cell_type": "markdown",
   "metadata": {},
   "source": [
    "### Testes para NN4 Small 1"
   ]
  },
  {
   "cell_type": "code",
   "execution_count": 14,
   "metadata": {},
   "outputs": [
    {
     "data": {
      "image/png": "[encoded data removed]",
      "text/plain": [
       "<Figure size 432x288 with 1 Axes>"
      ]
     },
     "metadata": {
      "needs_background": "light"
     },
     "output_type": "display_data"
    }
   ],
   "source": [
    "position_graphic = np.arange(6)\n",
    "fig = plt.figure()\n",
    "ax = fig.add_axes([0,0,2,1])\n",
    "\n",
    "data_for_graph = [[],[],[],[]]\n",
    "verification_test('nn4', dist_eucl, 0.83)\n",
    "verification_test('nn4', dist_eucl, 0.87)\n",
    "verification_test('nn4', dist_eucl, 0.89)\n",
    "verification_test('nn4', dist_cos, 0.305)\n",
    "verification_test('nn4', dist_cos, 0.355)\n",
    "verification_test('nn4', dist_cos, 0.405)\n",
    "\n",
    "rects1 = ax.bar(position_graphic - 0.40, data_for_graph[0], color = '#241623', width = 0.20)\n",
    "rects2 = ax.bar(position_graphic - 0.20, data_for_graph[1], color = '#D0CD94', width = 0.20)\n",
    "rects3 = ax.bar(position_graphic, data_for_graph[2], color = '#3C787E', width = 0.20)\n",
    "rects4 = ax.bar(position_graphic + 0.20, data_for_graph[3], color = '#C7EF00', width = 0.20)\n",
    "ax.legend(labels=['Precisão', 'Revocação', 'Medida-F', 'Percentual de acertos'])\n",
    "ax.set_xticklabels(['', \"Distância Euclidiana\\n + 0,83\", \"Distância Euclidiana\\n + 0,87\", \"Distância Euclidiana\\n + 0,89\", \"Similaridade de Cossenos\\n + 0,305\", \"Similaridade de Cossenos\\n + 0,355\", \"Similaridade de Cossenos\\n + 0,405\"])\n",
    "ax.set_ylabel('Valor (%)')\n",
    "ax.set_xlabel('Cálculo da Distância + Valor limítrofe')\n",
    "plt.savefig('results/famosos S2S nn4 verificacao.pdf', format='pdf', bbox_inches='tight')"
   ]
  },
  {
   "cell_type": "markdown",
   "metadata": {},
   "source": [
    "### Testes para Inception Resnet V1"
   ]
  },
  {
   "cell_type": "code",
   "execution_count": 15,
   "metadata": {},
   "outputs": [
    {
     "data": {
      "image/png": "[encoded data removed]",
      "text/plain": [
       "<Figure size 432x288 with 1 Axes>"
      ]
     },
     "metadata": {
      "needs_background": "light"
     },
     "output_type": "display_data"
    }
   ],
   "source": [
    "position_graphic = np.arange(6)\n",
    "fig = plt.figure()\n",
    "ax = fig.add_axes([0,0,2,1])\n",
    "data_for_graph = [[],[],[],[]]\n",
    "\n",
    "verification_test('facenet', dist_eucl, 1.0)\n",
    "verification_test('facenet', dist_eucl, 1.05)\n",
    "verification_test('facenet', dist_eucl, 1.1)\n",
    "verification_test('facenet', dist_cos, 0.4)\n",
    "verification_test('facenet', dist_cos, 0.5)\n",
    "verification_test('facenet', dist_cos, 0.6)\n",
    "\n",
    "rects1 = ax.bar(position_graphic - 0.40, data_for_graph[0], color = '#241623', width = 0.20)\n",
    "rects2 = ax.bar(position_graphic - 0.20, data_for_graph[1], color = '#D0CD94', width = 0.20)\n",
    "rects3 = ax.bar(position_graphic, data_for_graph[2], color = '#3C787E', width = 0.20)\n",
    "rects4 = ax.bar(position_graphic + 0.20, data_for_graph[3], color = '#C7EF00', width = 0.20)\n",
    "ax.legend(labels=['Precisão', 'Revocação', 'Medida-F', 'Percentual de acertos'])\n",
    "ax.set_xticklabels(['', \"Distância Euclidiana\\n + 1,00\", \"Distância Euclidiana\\n + 1,05\", \"Distância Euclidiana\\n + 1,1\", \"Similaridade de Cossenos\\n + 0,4\", \"Similaridade de Cossenos\\n + 0,5\", \"Similaridade de Cossenos\\n + 0,6\"])\n",
    "ax.set_ylabel('Valor (%)')\n",
    "ax.set_xlabel('Cálculo da Distância + Valor limítrofe')\n",
    "plt.savefig('results/famosos S2S inception verificacao.pdf', format='pdf', bbox_inches='tight')"
   ]
  },
  {
   "cell_type": "markdown",
   "metadata": {},
   "source": [
    "### Testes para VGG Faces"
   ]
  },
  {
   "cell_type": "code",
   "execution_count": 16,
   "metadata": {},
   "outputs": [
    {
     "data": {
      "image/png": "[encoded data removed]",
      "text/plain": [
       "<Figure size 432x288 with 1 Axes>"
      ]
     },
     "metadata": {
      "needs_background": "light"
     },
     "output_type": "display_data"
    }
   ],
   "source": [
    "position_graphic = np.arange(6)\n",
    "fig = plt.figure()\n",
    "ax = fig.add_axes([0,0,2,1])\n",
    "data_for_graph = [[],[],[],[]]\n",
    "\n",
    "verification_test('vgg', dist_eucl, 0.00028)\n",
    "verification_test('vgg', dist_eucl, 0.00029)\n",
    "verification_test('vgg', dist_eucl, 0.00030)\n",
    "verification_test('vgg', dist_cos, 0.000100)\n",
    "verification_test('vgg', dist_cos, 0.000105)\n",
    "verification_test('vgg', dist_cos, 0.000110)\n",
    "\n",
    "rects1 = ax.bar(position_graphic - 0.40, data_for_graph[0], color = '#241623', width = 0.20)\n",
    "rects2 = ax.bar(position_graphic - 0.20, data_for_graph[1], color = '#D0CD94', width = 0.20)\n",
    "rects3 = ax.bar(position_graphic, data_for_graph[2], color = '#3C787E', width = 0.20)\n",
    "rects4 = ax.bar(position_graphic + 0.20, data_for_graph[3], color = '#C7EF00', width = 0.20)\n",
    "ax.legend(labels=['Precisão', 'Revocação', 'Medida-F', 'Percentual de acertos'])\n",
    "ax.set_xticklabels(['', \"Distância Euclidiana\\n\"+ r\"$2,8\\times10^{-4}$\", \"Distância Euclidiana\\n\"+ r\"$2,9\\times10^{-4}$\", \"Distância Euclidiana\\n\"+ r\"$3,0\\times10^{-4}$\", \"Similaridade de Cossenos\\n\"+ r\"$1,00\\times10^{-4}$\", \"Similaridade de Cossenos\\n\"+ r\"$1,05\\times10^{-4}$\", \"Similaridade de Cossenos\\n\"+ r\"$1,10\\times10^{-4}$\"])\n",
    "ax.set_ylabel('Valor (%)')\n",
    "ax.set_xlabel('Cálculo da Distância + Valor limítrofe')\n",
    "plt.savefig('results/famosos S2S vgg verificacao.pdf', format='pdf', bbox_inches='tight')"
   ]
  },
  {
   "cell_type": "code",
   "execution_count": 17,
   "metadata": {},
   "outputs": [],
   "source": [
    "file_output = open(\"results/verificacao_famosos.csv\", 'w')\n",
    "file_output.write(class_result)\n",
    "file_output.close()"
   ]
  }
 ],
 "metadata": {
  "kernelspec": {
   "display_name": "Python 3",
   "language": "python",
   "name": "python3"
  },
  "language_info": {
   "codemirror_mode": {
    "name": "ipython",
    "version": 3
   },
   "file_extension": ".py",
   "mimetype": "text/x-python",
   "name": "python",
   "nbconvert_exporter": "python",
   "pygments_lexer": "ipython3",
   "version": "3.7.8"
  }
 },
 "nbformat": 4,
 "nbformat_minor": 4
}
